{
 "cells": [
  {
   "cell_type": "markdown",
   "metadata": {},
   "source": [
    "# Introduction to Python with a chemical weathering example\n",
    "\n",
    "This figure code block below imports modules that we will use for the code in the notebook. These modules are standard scientific computing packages that are available on DataHub."
   ]
  },
  {
   "cell_type": "code",
   "execution_count": null,
   "metadata": {},
   "outputs": [],
   "source": [
    "import numpy as np\n",
    "import matplotlib.pyplot as plt"
   ]
  },
  {
   "cell_type": "markdown",
   "metadata": {},
   "source": [
    "## Temperature, runoff and chemical weathering rates on the Columbia River Plateau and on the island of Java"
   ]
  },
  {
   "cell_type": "markdown",
   "metadata": {},
   "source": [
    "Your reading quiz asked you whether you supposed that a location on the Columbia River basalts in a dry part of eastern Washington or a location on basalts on the tropical island of Java had higher chemical weathering rates. Let's look at some data that were compiled in this publication that are related to this question:\n",
    "\n",
    "> Dessert C, Dupré B, Gaillardet J, Francois LM, Allègre CJ (2003) Basalt weathering laws and the impact of basalt weathering on the global carbon cycle. Chemical Geology 202: 257-273\n",
    "\n",
    "In this study, the researchers compiled data from small rivers draining landscapes where basaltic rocks were weathering and analyzed the calculated chemical weathering rates in the context of local climatology. \n",
    "\n",
    "In a language like Python, we can define variables and set them equal to values. The code block below will set some values for variables using data from Table 1 of Dessert et al., (2003). Note that the # symbol makes it so that the text afterwards is a comment rather than part of the executable code.\n",
    "\n",
    "```Rf``` is runoff (mm/year); ```T``` is temperature (ºC); ```fw``` is the weathering flux (tons/km$^2$/year)"
   ]
  },
  {
   "cell_type": "code",
   "execution_count": null,
   "metadata": {},
   "outputs": [],
   "source": [
    "Rf_Columbia = 1053 #runoff in mm/yr\n",
    "T_Columbia = 7.4 #temperature in centigrade\n",
    "fw_Columbia = 24.2 #weathering flux in t/km2/year\n",
    "\n",
    "Rf_Java = 4052 #runoff in mm/yr\n",
    "T_Java = 24.8 #temperature in centigrade\n",
    "fw_Java = 342.0 #weathering flux in t/km2/year"
   ]
  },
  {
   "cell_type": "code",
   "execution_count": null,
   "metadata": {
    "collapsed": false,
    "jupyter": {
     "outputs_hidden": false
    }
   },
   "outputs": [],
   "source": [
    "Rf_Java"
   ]
  },
  {
   "cell_type": "markdown",
   "metadata": {},
   "source": [
    "There is much that could be done with the data set in Dessert et al., (2003) and I encourage you to read through the paper to have a look at their analysis. Since this notebook may only be the second one you are working with, we will keep it simple. In the code below, plots are made that display the data as bar graphs. After these plots are made, we implement a function of chemical weathering rate that takes runoff and temperature as inputs and compare that model calculated chemical weathering rate to the measured values. \n",
    "\n",
    "**Your task for this mini-problem set is it to extend this notebook so that it includes data from two more of the localities studied by Dessert et al. (2003). When you are done, all of the plots below should have data from at least 4 locations with distinct symbols. After you have added that data to the plots, consider the question at the end of the notebook and write a response. Make a plot or two that supports your argument. Once you have finished the notebook upload the .html file to bCourses.** "
   ]
  },
  {
   "cell_type": "markdown",
   "metadata": {},
   "source": [
    "### Using matplotlib to make plots\n",
    "We will use the standard scientific plotting module matplotlib to make plots. Unlike in a program in Excel where you use a graphical interface to navigate through plot options, in matplotlib you specify those options through lines of code. Examples of plots made using matplotlib can be viewed here: http://matplotlib.org/gallery.html. Looking through those examples you will see that matplotlib is quite powerful. Learning to use matplotlib is best done through examples (such as those in the gallery) so let's go ahead and make some plots here. We can start with bar plots comparing data between the Columbia River area and the Java area."
   ]
  },
  {
   "cell_type": "code",
   "execution_count": null,
   "metadata": {
    "collapsed": false,
    "jupyter": {
     "outputs_hidden": false
    }
   },
   "outputs": [],
   "source": [
    "plt.bar(0.5,Rf_Columbia,color='tan',label='Columbia River Plateau, WA')\n",
    "plt.bar(1.5,Rf_Java,color='green',label='Java')\n",
    "plt.ylabel('runoff (mm/year)')\n",
    "plt.legend()\n",
    "plt.xlim(0,5)\n",
    "plt.show()"
   ]
  },
  {
   "cell_type": "code",
   "execution_count": null,
   "metadata": {
    "collapsed": false,
    "jupyter": {
     "outputs_hidden": false
    }
   },
   "outputs": [],
   "source": [
    "plt.bar(0.5,T_Columbia,color='tan',label='Columbia River Plateau, WA')\n",
    "plt.bar(1.5,T_Java,color='green',label='Java')\n",
    "plt.ylabel('mean annual temperature ($^\\circ$C)') # $^\\circ$ tells python to make the degree symbol\n",
    "plt.legend()\n",
    "plt.xlim(0,5)\n",
    "plt.show()"
   ]
  },
  {
   "cell_type": "code",
   "execution_count": null,
   "metadata": {
    "collapsed": false,
    "jupyter": {
     "outputs_hidden": false
    }
   },
   "outputs": [],
   "source": [
    "plt.bar(0.5,fw_Columbia,color='tan',label='Columbia River Plateau, WA')\n",
    "plt.bar(1.5,fw_Java,color='green',label='Java')\n",
    "plt.ylabel('chemical weathering rate (tons/km$^2$/year)') # $^X$ tells python to superscript X\n",
    "plt.legend()\n",
    "plt.xlim(0,5)\n",
    "plt.show()"
   ]
  },
  {
   "cell_type": "markdown",
   "metadata": {},
   "source": [
    "## Quantifying the effect of climate on chemical weathering\n",
    "Dessert et al. (2003) use their compilation of weathering rate, runoff and temperature data to preform a regression analysis. They use this regression analysis to come up with an empirical relationship between precipitation/runoff (```Rf```) and temperature (```T```) with chemical weathering flux (```fw```).\n",
    "\n",
    "$fw = Rf \\times 18.41 \\times e^{(0.0553 \\times T)}$\n",
    "\n",
    "We can make this equation into a function in Python. A function is defined as shown below. ```def``` tells Python that we are definining a function. ```chemical_weathering``` is then the name of the function with the arguments that are input into the function being within the parentheses (in this case ```Rf``` and ```T```). The colon tells Python that a function will follow. The text within the ` ''' ''' ` marks is a comment that describes what the function does with details about the input and the output."
   ]
  },
  {
   "cell_type": "code",
   "execution_count": null,
   "metadata": {},
   "outputs": [],
   "source": [
    "def chemical_weathering(Rf,T):\n",
    "    '''\n",
    "    This function uses the empirical relationship of Dessert et al. (2003)\n",
    "    to return a prediction for the chemical weathering rate of basalt.\n",
    "    \n",
    "    Arguments\n",
    "    ----------\n",
    "    Rf : runoff in mm/year\n",
    "    T : temperature in ºC\n",
    "    \n",
    "    Output\n",
    "    ----------\n",
    "    chemical weathering rate in (t/km^2/yr)\n",
    "    '''\n",
    "    Rf_m = Rf/1000\n",
    "    fw_calculated = Rf_m * 18.41 * np.exp(0.0553 * T) \n",
    "    return fw_calculated"
   ]
  },
  {
   "cell_type": "markdown",
   "metadata": {},
   "source": [
    "Now that we have developed this function, we can use it on the Columbia River and Java basalt data inputting the runoff and temperature data."
   ]
  },
  {
   "cell_type": "code",
   "execution_count": null,
   "metadata": {},
   "outputs": [],
   "source": [
    "fw_Columbia_calculated = chemical_weathering(Rf_Columbia,T_Columbia)\n",
    "fw_Java_calculated = chemical_weathering(Rf_Java,T_Java)"
   ]
  },
  {
   "cell_type": "markdown",
   "metadata": {},
   "source": [
    "The Python function ```print()``` allows us to print these data for display on the screen. Let's compare the regression model calculated chemical weathering rate and the actual weathering rate for the island of Java."
   ]
  },
  {
   "cell_type": "code",
   "execution_count": null,
   "metadata": {
    "collapsed": false,
    "jupyter": {
     "outputs_hidden": false
    }
   },
   "outputs": [],
   "source": [
    "print('The chemical weathering rate on Java is: ')\n",
    "print(fw_Java)\n",
    "print('The regression model calculated chemical weathering rate on Java is: ')\n",
    "print(fw_Java_calculated)"
   ]
  },
  {
   "cell_type": "markdown",
   "metadata": {},
   "source": [
    "Let's make a plot that compares the actual chemical weathering rate estimated from the river solute flux data with the regression model prediction for these two localities. You should update this plot with the two additional localities you pick from Table 1 of Dessert et al. (2003)."
   ]
  },
  {
   "cell_type": "code",
   "execution_count": null,
   "metadata": {
    "collapsed": false,
    "jupyter": {
     "outputs_hidden": false
    }
   },
   "outputs": [],
   "source": [
    "plt.scatter(fw_Columbia,fw_Columbia_calculated,color='tan',label='Columbia Plateau')\n",
    "plt.scatter(fw_Java,fw_Java_calculated,color='green',label='Java')\n",
    "plt.plot(range(0,400),range(0,400),'k--',)\n",
    "plt.xlabel('actual chemical weathering (t/km$^2$/yr)')\n",
    "plt.ylabel('model-calculated chemical weathering (t/km$^2$/yr)')\n",
    "plt.ylim(0,400)\n",
    "plt.xlim(0,400)\n",
    "plt.legend(loc=4)\n",
    "plt.show()"
   ]
  },
  {
   "cell_type": "markdown",
   "metadata": {},
   "source": [
    "## Question for you to address related to chemical weathering and paleogeography\n",
    "\n",
    "Chemical weathering of silicate rocks consumes atmospheric CO$_2$ which is something we will be talking about in more detail in class. In the context of the data presented in Dessert et al. (2003), consider the following situation: \n",
    "\n",
    "- a basaltic large igneous province erupts in the arid subtropics and covers a continent the size of India\n",
    "- the continent then moves from the arid subtropics into the wet tropics and is positioned at the equator\n",
    "\n",
    "**What might the effect be on global CO$_2$ concentrations as the continent with the basaltic large igneous province moves from the subtropics into the tropics? Write your thoughts about this question as a paragraph or two in a markdown cell. Use some additional data compiled by Dessert et al. (2003) within a code cell that generates an additional plot or two to support your argument.**\n",
    "\n",
    "You could consider CO$_2$ consumption rate as compiled in Table 1 of Dessert et al. (2003) and also take average precipitation/runoff values from the subtropics and from the tropics and run them through our chemical weathering function."
   ]
  },
  {
   "cell_type": "code",
   "execution_count": null,
   "metadata": {},
   "outputs": [],
   "source": [
    "### Write code in this cell\n",
    "\n"
   ]
  },
  {
   "cell_type": "markdown",
   "metadata": {},
   "source": [
    "*Write answer text in this cell*\n",
    "\n"
   ]
  }
 ],
 "metadata": {
  "kernelspec": {
   "display_name": "Python 3",
   "language": "python",
   "name": "python3"
  },
  "language_info": {
   "codemirror_mode": {
    "name": "ipython",
    "version": 3
   },
   "file_extension": ".py",
   "mimetype": "text/x-python",
   "name": "python",
   "nbconvert_exporter": "python",
   "pygments_lexer": "ipython3",
   "version": "3.7.3"
  },
  "nav_menu": {},
  "toc": {
   "navigate_menu": true,
   "number_sections": true,
   "sideBar": true,
   "threshold": 6,
   "toc_cell": false,
   "toc_section_display": "block",
   "toc_window_display": false
  }
 },
 "nbformat": 4,
 "nbformat_minor": 4
}
