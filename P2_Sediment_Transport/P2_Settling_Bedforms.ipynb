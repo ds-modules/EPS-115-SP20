{
 "cells": [
  {
   "cell_type": "markdown",
   "metadata": {},
   "source": [
    "# Problem Set 2: Settling velocity and bedform development\n",
    "\n",
    "Like in the last notebook, the first step is to import the modules so we have the tools we need to do the analysis."
   ]
  },
  {
   "cell_type": "code",
   "execution_count": null,
   "metadata": {},
   "outputs": [],
   "source": [
    "import numpy as np\n",
    "import pandas as pd\n",
    "import matplotlib.pyplot as plt\n",
    "%matplotlib inline\n",
    "%config InlineBackend.figure_formats = {'svg',}"
   ]
  },
  {
   "cell_type": "markdown",
   "metadata": {},
   "source": [
    "## Grain settling\n",
    "\n",
    "### Stokes Law\n",
    "\n",
    "Grain settling is one of the most important problems in sedimentology (and therefore sedimentary geology), as neither sediment transport nor deposition can be understood and modeled without knowing what is the settling velocity of a particle of a certain grain size. Very small grains, when submerged in water, have a mass small enough that they reach a terminal velocity before any turbulence develops. This is true for clay- and silt-sized particles settling in water, and for these grain size classes Stokes’ Law can be used to calculate the settling velocity as we worked out on the board in class:\n",
    "\n",
    "\\begin{equation}\n",
    "settling\\_velocity = C_1 \\times \\frac{D^2(\\rho_{grain} - \\rho_{fluid})g}{\\mu}\n",
    "\\end{equation}\n",
    "\n",
    "In this equation $(\\rho_{grain} - \\rho_{fluid})$ is the density difference between the particle and fluid, $g$ is gravitational acceleration, $D$ is the particle diameter, $C_1$ is a constant with a theoretical value of 1/18, and the $\\mu$ is the fluid viscosity.\n",
    "\n",
    "A function can be written that accepts the variables of grain diameter, grain density, fluid density and fluid viscosity and returns the settling velocity as predicted by Stokes Law:"
   ]
  },
  {
   "cell_type": "code",
   "execution_count": null,
   "metadata": {},
   "outputs": [],
   "source": [
    "def velocity_stokes(grain_diameter,grain_density,fluid_density,fluid_viscosity):\n",
    "    \"\"\"\n",
    "    This function calculates the settling velocity of a grain in a fluid as\n",
    "    predicted by Stokes law.\n",
    "    \n",
    "    Inputs\n",
    "    ------\n",
    "    particle_diameter: diameter of sediment grain with units of meters\n",
    "    particle_density: density of sediment grain with units of kg/m3\n",
    "    fluid_density: density of fluid in which grain is sinking with units of kg/m3\n",
    "    fluid_viscosity: dynamic viscosity of fluid with units of Pa*s\n",
    "    \n",
    "    Output\n",
    "    ------\n",
    "    settling velocity in meters/second\n",
    "    \"\"\"\n",
    "    g = 9.81 #gravitational acceleration\n",
    "    constant1 = 1/18\n",
    "    velocity = constant1*((grain_diameter**2)*(grain_density-fluid_density)*g)/(fluid_viscosity)\n",
    "    return velocity  "
   ]
  },
  {
   "cell_type": "markdown",
   "metadata": {},
   "source": [
    "A couple things to note about the function above. In Python: + is addition, / is division, \\* is multiplication and \\*\\* is exponentiation. So 3\\*3=9, while 3\\*\\*3=27. You will need to use this operators when you write your own functions below.\n",
    "\n",
    "Now that we have a function for Stokes law, let's use it to predict the settling velocity for a medium grain of sand sinking in water. First we need to define the variables that will be input to the function."
   ]
  },
  {
   "cell_type": "code",
   "execution_count": null,
   "metadata": {},
   "outputs": [],
   "source": [
    "fine_sand_grain = .00013 # 0.130 mm grain diameter in meters\n",
    "quartz_density = 2650.0 # density of particle in kg/m3\n",
    "water_density = 1000.0 # density of water in kg/m3\n",
    "water_viscosity = 1.002*1E-3 # dynamic viscosity in Pa*s at 20 C"
   ]
  },
  {
   "cell_type": "markdown",
   "metadata": {},
   "source": [
    "Now that these variables have been assigned values, we can feed these values into the velocity_stokes function and the resulting output will be the predicted Stokes settling velocity in meters/second.\n",
    "\n",
    "Note that the order of input arguments matter!"
   ]
  },
  {
   "cell_type": "code",
   "execution_count": null,
   "metadata": {},
   "outputs": [],
   "source": [
    "velocity_stokes(fine_sand_grain,quartz_density,water_density,water_viscosity)"
   ]
  },
  {
   "cell_type": "markdown",
   "metadata": {},
   "source": [
    "## Problem 1: applying Stokes Law\n",
    "*(4 points total: 1 point for value, 3 points for writing)*\n",
    "\n",
    "In the above example, the settling velocity for a fine sand grain in water is calculated. Using the two code blocks below, enter the parameters for such a grain sinking through air instead of water and then enter all 4 required values into the `velocity_stokes()` function. How much faster will it sink according to Stokes Law?"
   ]
  },
  {
   "cell_type": "code",
   "execution_count": null,
   "metadata": {},
   "outputs": [],
   "source": [
    "fine_sand_grain = .00013 #0.130 mm grain diameter in meters\n",
    "quartz_density = 2650.0 # density of particle in kg/m3\n",
    "air_density =\n",
    "air_viscosity ="
   ]
  },
  {
   "cell_type": "code",
   "execution_count": null,
   "metadata": {},
   "outputs": [],
   "source": [
    "velocity_stokes()"
   ]
  },
  {
   "cell_type": "markdown",
   "metadata": {},
   "source": [
    "**In this text block, write what you got for the velocity in air and how it compares to that observed for the same grain in water. Explain what factors control difference in settling velocity in air versus water.**\n",
    "\n",
    "...\n",
    "\n",
    "...\n",
    "\n",
    "..."
   ]
  },
  {
   "cell_type": "markdown",
   "metadata": {},
   "source": [
    "### Turbulent sinking\n",
    "\n",
    "For grain sizes coarser than silt, a category that clearly includes a lot of sediment and rock types of great interest to geologists, things get more complicated. The reason for this is the development of a separation wake behind the falling grain. The appearance of this wake results in turbulence and large pressure differences between the front and back of the particle. For the largest grains (pebbles, cobbles), this effect is so strong that viscous forces become small compared to pressure forces and turbulent drag dominates. In this case, the settling velocity can be estimated using the empirical equation:\n",
    "\n",
    "\\begin{equation}\n",
    "settling\\_velocity = \\sqrt{\\frac{4D(\\rho_s - \\rho_f)g}{3 \\times \\rho_f}}\n",
    "\\end{equation}\n",
    "\n",
    "In this equation $(\\rho_{sed} - \\rho_{fluid})$ is the density difference between the particle and fluid, $g$ is gravitational acceleration, and $D$ is the particle diameter"
   ]
  },
  {
   "cell_type": "markdown",
   "metadata": {},
   "source": [
    "## Problem 2: applying the turbulent settling equation\n",
    "*(4 points total: 2 points for function and values, 2 points for writing)*\n",
    "\n",
    "In the code cell below, I have started writing a function that will calculate the predicted turbulent settling velocity. **Finish this function using the equation above for when turbulent drag dominates.** I have helped out by putting everything together except for what needs to go within the square root."
   ]
  },
  {
   "cell_type": "code",
   "execution_count": null,
   "metadata": {},
   "outputs": [],
   "source": [
    "def velocity_turbulent(grain_diameter,grain_density,fluid_density):\n",
    "    \"\"\"\n",
    "    This function calculates the settling velocity of a grain in a fluid as\n",
    "    predicted by turbulent sinking.\n",
    "    \n",
    "    Inputs\n",
    "    ------\n",
    "    particle_diameter: diameter of sediment grain with units of meters\n",
    "    particle_density: density of sediment grain with units of kg/m3\n",
    "    fluid_density: density of fluid in which grain is sinking with units of kg/m3\n",
    "    \n",
    "    Output\n",
    "    ------\n",
    "    settling velocity in meters/second\n",
    "    \"\"\"\n",
    "    g = 9.81 #gravitational acceleration\n",
    "    velocity = np.sqrt() #you need to enter the equation here to have a workable function\n",
    "    return velocity  "
   ]
  },
  {
   "cell_type": "markdown",
   "metadata": {},
   "source": [
    "**Which settling velocity equation (Stokes vs turbulent) predicts a larger increase in settling velocity as grain diameter increases?** Answer this question by both entering some examples into both the `velocity_stokes()` and `velocity_turbulent()` equation and by looking at the equations. Enter text related to your question in this cell and then use code cells below as needed.\n",
    "\n",
    "...\n",
    "\n",
    "..."
   ]
  },
  {
   "cell_type": "code",
   "execution_count": null,
   "metadata": {},
   "outputs": [],
   "source": []
  },
  {
   "cell_type": "code",
   "execution_count": null,
   "metadata": {},
   "outputs": [],
   "source": []
  },
  {
   "cell_type": "code",
   "execution_count": null,
   "metadata": {},
   "outputs": [],
   "source": []
  },
  {
   "cell_type": "markdown",
   "metadata": {},
   "source": [
    "## Problem 3a: Plot Stokes settling\n",
    "\n",
    "Let's make a plot of grain diameter versus settling velocity as predicted by Stokes Law. To make such a plot of a function it can be quite helpful to make a long list with different values of the variable you are seeking to evaluate the function for. Let's use the `np.arange()` function to develop a list of sediment diameters between 0 and 0.01 meters with 0.00001 between each sediment diameter. Doing so will give us 1000 different sediment grain diameters that we can feed into our settling functions. Writing `print(diameters)` will print all 1000 of them."
   ]
  },
  {
   "cell_type": "code",
   "execution_count": null,
   "metadata": {},
   "outputs": [],
   "source": [
    "diameters = np.arange(0,0.01,0.00001)\n",
    "print(diameters)"
   ]
  },
  {
   "cell_type": "markdown",
   "metadata": {},
   "source": [
    "Previously we input a single grain diameter into the `stokes_velocities()` function, but we can instead enter all 1000 diameters that are now listed within the `diameters` variable."
   ]
  },
  {
   "cell_type": "code",
   "execution_count": null,
   "metadata": {},
   "outputs": [],
   "source": [
    "stokes_velocities = velocity_stokes(diameters,quartz_density,water_density,water_viscosity)\n",
    "print(stokes_velocities)"
   ]
  },
  {
   "cell_type": "markdown",
   "metadata": {},
   "source": [
    "Armed with these 1000 calculated settling velocities, we can make a nice plot of settling velocity as a function of grain size. Let's make a plot that has grain size divisions and labels on it and then plot on the calculated Stokes settling values using `plt.plot()`. Note that I am multiplying the diameters by 1000 so that they x-axis is in millimeters instead of meters."
   ]
  },
  {
   "cell_type": "code",
   "execution_count": null,
   "metadata": {},
   "outputs": [],
   "source": [
    "#make a figure and set its size\n",
    "plt.figure(figsize=(8,5))\n",
    "\n",
    "#plotting the vertical lines that demarcate grain size\n",
    "plt.text(0.01, 0.051, 'silt', fontsize=10)\n",
    "plt.plot([0.25/4, 0.25/4],[0, 0.15],'k--') #'k--' means dashed line in black\n",
    "plt.text(0.07, 0.051, 'v fn', fontsize=10)\n",
    "plt.text(0.07, 0.045, 'sand', fontsize=10)\n",
    "plt.plot([0.25/2, 0.25/2],[0, 0.15],'k--')\n",
    "plt.text(0.14, 0.051, 'fn sand', fontsize=10)\n",
    "plt.plot([0.25, 0.25],[0, 0.15],'k--')\n",
    "plt.plot([0.5, 0.5],[0.00001, 10],'k--')\n",
    "plt.text(0.26, 0.051, 'medium sand', fontsize=10)\n",
    "plt.text(0.8, 0.051, 'coarse sand', fontsize=10)\n",
    "\n",
    "#plotting a line of the calculated stokes_velocities\n",
    "plt.plot(diameters*1000,stokes_velocities,label='Stokes',linewidth=3)\n",
    "\n",
    "#labeling and setting the axis limits and making a legend\n",
    "plt.xlabel('grain diameter (mm)',fontsize=12)\n",
    "plt.ylabel('settling velocity (m/s)',fontsize=12)\n",
    "plt.axis([0,1,0,0.15]);\n",
    "plt.legend(loc=2)\n",
    "plt.show()"
   ]
  },
  {
   "cell_type": "markdown",
   "metadata": {},
   "source": [
    "## Problem 3b: Plot our class data along with the Stokes Law prediction\n",
    "*(2 points)*\n",
    "\n",
    "Let's plot our data from class on the same plot. To do that we need to import the .csv file that has all of our data in it. A nice way to import and deal with data in Python is to use the Pandas function `pd.read_csv()` which imports data from a file into a tabular data structure called a dataframe. **To import the data, you need to have the class_data.csv in the same folder as your notebook.** In the code cell below, the data is read in from the .csv files and named class_data. Having the next line be `class_data` then prints the dataframe to the notebook so we can see all of the data."
   ]
  },
  {
   "cell_type": "code",
   "execution_count": null,
   "metadata": {},
   "outputs": [],
   "source": [
    "class_data = pd.read_csv('class_settling_data_2018.csv')\n",
    "class_data"
   ]
  },
  {
   "cell_type": "markdown",
   "metadata": {},
   "source": [
    "In order to access data from the class_data dataframe one column at a time we can use this notation `class_data['diameter (mm)']` where the text in quotes within the square brackets is the name of the column.\n",
    "\n",
    "Now we have a way to access the clast diameter and settling velocity data we collected. Let's set variables equal to these columns:"
   ]
  },
  {
   "cell_type": "code",
   "execution_count": null,
   "metadata": {},
   "outputs": [],
   "source": [
    "our_diameters = class_data['diameter (mm)']\n",
    "our_velocities = class_data['velocity (m/s)']"
   ]
  },
  {
   "cell_type": "markdown",
   "metadata": {},
   "source": [
    "Let's plot these data along with Stoke's law line. Given that our data covers a large range of grain sizes and settling velocities, let's plot them on a loglog plot using the `plt.loglog()` function which makes it so the axes have a logarithmic rather than linear scale."
   ]
  },
  {
   "cell_type": "code",
   "execution_count": null,
   "metadata": {},
   "outputs": [],
   "source": [
    "plt.figure(figsize=(8,7))\n",
    "\n",
    "#a plot with loglog axes showing the calculated stokes values\n",
    "plt.loglog(diameters*1000,stokes_velocities,label='Stokes',color='blue',linewidth=3)\n",
    "\n",
    "#make a scatter plot of our data on the same figure\n",
    "plt.scatter(our_diameters,our_velocities,s=40,marker='o',color='goldenrod',label='our data')\n",
    "\n",
    "plt.plot([1.0/64, 1.0/64],[0.00001, 10],'k--')\n",
    "plt.text(0.012, 0.005, 'fine silt', fontsize=13,\n",
    "    rotation='vertical')\n",
    "plt.plot([1.0/32, 1.0/32],[0.00001, 10],'k--')\n",
    "plt.text(0.17/8, 0.005, 'medium silt', fontsize=13,\n",
    "    rotation='vertical')\n",
    "plt.plot([1.0/16, 1.0/16],[0.00001, 10],'k--')\n",
    "plt.text(0.17/4, 0.005, 'coarse silt', fontsize=13,\n",
    "    rotation='vertical')\n",
    "plt.plot([1.0/8, 1.0/8],[0.00001, 10],'k--')\n",
    "plt.text(0.17/2, 0.005, 'very fine sand', fontsize=13,\n",
    "    rotation='vertical')\n",
    "plt.plot([0.25, 0.25],[0.00001, 10],'k--')\n",
    "plt.text(0.17, 0.005, 'fine sand', fontsize=13,\n",
    "    rotation='vertical')\n",
    "plt.plot([0.5, 0.5],[0.00001, 10],'k--')\n",
    "plt.text(0.33, 0.005, 'medium sand', fontsize=13,\n",
    "    rotation='vertical')\n",
    "plt.plot([1, 1],[0.00001, 10],'k--')\n",
    "plt.text(0.7, 0.005, 'coarse sand', fontsize=13,\n",
    "    rotation='vertical')\n",
    "plt.plot([2, 2],[0.00001, 10],'k--')\n",
    "plt.text(1.3, 0.005, 'very coarse sand', fontsize=13,\n",
    "    rotation='vertical')\n",
    "plt.plot([4, 4],[0.00001, 10],'k--')\n",
    "plt.text(2.7, 0.005, 'granules', fontsize=13,\n",
    "    rotation='vertical')\n",
    "plt.text(6, 0.005, 'pebbles', fontsize=13,\n",
    "    rotation='vertical')\n",
    "plt.xlabel('grain diameter (mm)', fontsize=15)\n",
    "plt.ylabel('settling velocity (m/s)', fontsize=15)\n",
    "plt.axis([0.01,10,0.0001,10])\n",
    "\n",
    "plt.legend(loc=2)\n",
    "plt.show()"
   ]
  },
  {
   "cell_type": "markdown",
   "metadata": {},
   "source": [
    "## Problem 3c: Plotting the turbulent settling equation and the Ferguson and Church (2004) data.\n",
    "*(6 points total: 3 points for plot; 3 points for writing)*\n",
    "\n",
    "As I mentioned in class, a study by Ferguson and Church collected grain settling data across a similar range of grain sizes to those which we investigated. Those data are within a file called FC04_settling_data.csv. **In the code blocks below you need to do a couple of things:**\n",
    "\n",
    "1. import the FC04_settling_data.csv into a DataFrame following the example of the import of our data above\n",
    "2. make another plot that has the Stokes line and our data shown as in the previous plot and also plots the FC04_data and the predicted turbulent drag settling velocity. Copying the code from the code cell above could be a good way to start. Make sure the new line and points have distinct colors and are labeled so that they show up in the legend."
   ]
  },
  {
   "cell_type": "code",
   "execution_count": null,
   "metadata": {},
   "outputs": [],
   "source": []
  },
  {
   "cell_type": "code",
   "execution_count": null,
   "metadata": {},
   "outputs": [],
   "source": []
  },
  {
   "cell_type": "code",
   "execution_count": null,
   "metadata": {},
   "outputs": [],
   "source": []
  },
  {
   "cell_type": "markdown",
   "metadata": {},
   "source": [
    "**Upon plotting all the data and the Stokes and Turbulent drag settling velocity lines, you should notice that the data is fit nicely by Stokes Law when the grain size is very fine sand and is fit nicely by the turbulent drag settling velocity for granules and pebbles. However, neither line provides a good fit to medium and coarse sand. Why is this case? In your answer below, use words such as viscous drag and turbulence. Looking at the Ferguson and Church (2004) paper could be helpful for your answer.**\n",
    "\n",
    "...\n",
    "\n",
    "...\n"
   ]
  },
  {
   "cell_type": "markdown",
   "metadata": {},
   "source": [
    "## Problem 4: The empirical fit to the Ferguson and Church (2004) data.\n",
    "*(5 points total; 2 points for F&C function, 3 points for F&C plot)*\n",
    "\n",
    "There are several empirical – and fairly complicated – equations that try to bridge the gap between Stokes and turbulent drag. (Empirical means that they are fit to the data rather than being calculated from theory). Ferguson and Church (2004) propose this fit.\n",
    "\n",
    "\\begin{equation}\n",
    "settling\\_velocity = \\frac{D^2(\\rho_{grain} - \\rho_{fluid})g}{18\\mu + \\Big(\\rho_{fluid}\\times \\sqrt{0.75D^3\\big(\\frac{\\rho_{grain} - \\rho_{fluid}}{\\rho_{fluid}}\\big)g}\\Big)}\n",
    "\\end{equation}\n",
    "\n",
    "In this equation $(\\rho_{grain} - \\rho_{fluid})$ is the density difference between the particle and fluid, $g$ is gravitational acceleration, $D$ is the particle diameter, and $\\mu$ is the fluid viscosity.\n",
    "\n",
    "For this problem, define a function that calculates this empirical fit (use the above functions as a guide). Then feed the list of sediment diameters into this function and plot the empirical fit along with the other curves and the data."
   ]
  },
  {
   "cell_type": "code",
   "execution_count": null,
   "metadata": {},
   "outputs": [],
   "source": []
  },
  {
   "cell_type": "code",
   "execution_count": null,
   "metadata": {},
   "outputs": [],
   "source": []
  },
  {
   "cell_type": "markdown",
   "metadata": {},
   "source": [
    "## Problem 5: Bedform development.\n",
    "*(9 points total: 3 points plots; 6 points writing)*\n",
    "\n",
    "In the folder with this notebook there are three .csv files containing experimental data compiled by Middleton and Southard (1984) from experiments that generated bedforms with three different grain size populations: very fine sand (0.1-0.14_mm_bedforms.csv), medium sand (0.5-0.64_mm_bedforms.csv) and very coarse sand (1.3-1.8_mm_bedforms.csv). In the bedform type column, there are the following symbols:\n",
    "\n",
    "* LP = lower plane bed\n",
    "* SR = small ripples\n",
    "* LR = large ripples\n",
    "* SR-LR = undifferentiated ripples\n",
    "* UP = upper plane bed\n",
    "* A = antidunes\n",
    "\n",
    "In the code block below, the very fine sand data are imported into a DataFrame. There are a large number of data so rather than printing the whole dataframe, we can use `.head()` to see the columns and the first 10 lines."
   ]
  },
  {
   "cell_type": "code",
   "execution_count": null,
   "metadata": {},
   "outputs": [],
   "source": [
    "v_fn_sand_bedforms = pd.read_csv('0.1-0.14_mm_bedforms.csv')\n",
    "v_fn_sand_bedforms.head(10)"
   ]
  },
  {
   "cell_type": "markdown",
   "metadata": {},
   "source": [
    "**Describe, in a few well-written sentences, what these data consists of**\n",
    "\n",
    "...\n",
    "\n",
    "..."
   ]
  },
  {
   "cell_type": "markdown",
   "metadata": {},
   "source": [
    "A nice thing about a pandas dataframe is that the data can be filtered. In the code below, the data are filtered into new dataframes that are subsets of the main data based on the type of bedform that was generated.\n",
    "\n",
    "(We pull out the rows by using a method known as \"boolean masking/indexing/filtering.\" If you are interested in learning more, see https://pandas.pydata.org/pandas-docs/stable/indexing.html#boolean-indexing)"
   ]
  },
  {
   "cell_type": "code",
   "execution_count": null,
   "metadata": {},
   "outputs": [],
   "source": [
    "v_fn_lp = v_fn_sand_bedforms[v_fn_sand_bedforms['Bedform type']=='LP']\n",
    "v_fn_sr = v_fn_sand_bedforms[v_fn_sand_bedforms['Bedform type']=='SR']\n",
    "v_fn_lr = v_fn_sand_bedforms[v_fn_sand_bedforms['Bedform type']=='LR']\n",
    "v_fn_up = v_fn_sand_bedforms[v_fn_sand_bedforms['Bedform type']=='UP']\n",
    "v_fn_a = v_fn_sand_bedforms[v_fn_sand_bedforms['Bedform type']=='A']"
   ]
  },
  {
   "cell_type": "code",
   "execution_count": null,
   "metadata": {},
   "outputs": [],
   "source": [
    "plt.scatter(v_fn_lp['Flow velocity (m/s)'],v_fn_lp['Mean flow depth (m)'],color='yellow',label='lower plane bed')\n",
    "plt.scatter(v_fn_sr['Flow velocity (m/s)'],v_fn_sr['Mean flow depth (m)'],color='red',label='small ripples')\n",
    "plt.scatter(v_fn_lr['Flow velocity (m/s)'],v_fn_lr['Mean flow depth (m)'],color='pink',label='large ripples')\n",
    "plt.scatter(v_fn_up['Flow velocity (m/s)'],v_fn_up['Mean flow depth (m)'],color='lightblue',label='upper plane bed')\n",
    "plt.scatter(v_fn_a['Flow velocity (m/s)'],v_fn_a['Mean flow depth (m)'],color='black',label='antidunes')\n",
    "\n",
    "plt.xlabel('flow velocity (m/s)')\n",
    "plt.ylabel('mean flow depth (m)')\n",
    "plt.legend(loc=1)\n",
    "plt.axis([0,2.5,0,0.8])\n",
    "plt.show()"
   ]
  },
  {
   "cell_type": "markdown",
   "metadata": {},
   "source": [
    "**What is the relationship between flow velocity, flow depth, and the bedforms present under these conditions?**\n",
    "\n",
    "..."
   ]
  },
  {
   "cell_type": "markdown",
   "metadata": {},
   "source": [
    "**Now I want you to use the other data files for medium sand (0.5-0.64_mm_bedforms.csv) and very coarse sand (1.3-1.8_mm_bedforms.csv) to answer the question: how does grain size change things?**\n",
    "\n",
    "**Makes plots of the data and use them to understand and communicate the answer to this question: what is the effect of changing grain size on the state of the bed (i.e. on the conditions under which certain bedform occur)? Be careful and in your response pay attention to the actual values under which certain bedforms occur and how they change with changing grain size.**\n",
    "\n",
    "**Write your response as a paragraph here and use the code blocks below to make your plots. You can add more code blocks as necessary by pressing the + button in the top toolbar.**\n",
    "\n",
    "...\n",
    "\n",
    "..."
   ]
  },
  {
   "cell_type": "code",
   "execution_count": null,
   "metadata": {},
   "outputs": [],
   "source": []
  },
  {
   "cell_type": "code",
   "execution_count": null,
   "metadata": {},
   "outputs": [],
   "source": []
  },
  {
   "cell_type": "code",
   "execution_count": null,
   "metadata": {},
   "outputs": [],
   "source": []
  },
  {
   "cell_type": "code",
   "execution_count": null,
   "metadata": {},
   "outputs": [],
   "source": []
  },
  {
   "cell_type": "code",
   "execution_count": null,
   "metadata": {},
   "outputs": [],
   "source": []
  },
  {
   "cell_type": "markdown",
   "metadata": {},
   "source": [
    "References:\n",
    "\n",
    "Ferguson, R.I., Church, M., 2004. A simple universal equation for grain settling velocity. Journal of Sedimentary Research 74 (6), 933–937.\n",
    "\n",
    "Middleton, G.V. and Southard, J.B., 1984, Mechanics of sediment Movement: SEPM Eastern\n",
    "Section, Short Course 3\n",
    "\n",
    "Zoltan Sylvester provided ideas, equations and text related to grain settling."
   ]
  },
  {
   "cell_type": "markdown",
   "metadata": {},
   "source": [
    "Rubric:\n",
    "\n",
    "P2-- 30 pts total\n",
    "\n",
    "Q1-- Stokes Flow (4 pts)\n",
    "1 pt - air settling\n",
    "3 pts - writing\n",
    "\n",
    "Q2-- Turbulent settling (4 pts)\n",
    "2 pts - turbulence eqn\n",
    "2 pts - writing\n",
    "\n",
    "Q3-- Plotting Stokes/Turbulent settling (8 pts)\n",
    "2 pts -- Stokes plot\n",
    "2 pts -- Stokes plot with class data\n",
    "2 pts - Turbulent plot with F&C data\n",
    "2 pts -- Writing about fit of Stokes/Turbulent settling to the data\n",
    "\n",
    "Q4-- F & C empirical fit (5 pts)\n",
    "2 pts -- F&C eq'n\n",
    "3 pts -- plot with F&C\n",
    "\n",
    "Q5 --Bedform development (9 pts)\n",
    "2 pts -- plots\n",
    "7 pts -- writing"
   ]
  }
 ],
 "metadata": {
  "kernelspec": {
   "display_name": "Python 3",
   "language": "python",
   "name": "python3"
  },
  "language_info": {
   "codemirror_mode": {
    "name": "ipython",
    "version": 3
   },
   "file_extension": ".py",
   "mimetype": "text/x-python",
   "name": "python",
   "nbconvert_exporter": "python",
   "pygments_lexer": "ipython3",
   "version": "3.6.6"
  },
  "toc": {
   "nav_menu": {},
   "number_sections": true,
   "sideBar": true,
   "skip_h1_title": false,
   "toc_cell": false,
   "toc_position": {},
   "toc_section_display": "block",
   "toc_window_display": false
  }
 },
 "nbformat": 4,
 "nbformat_minor": 2
}
