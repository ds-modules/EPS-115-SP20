{
 "cells": [
  {
   "cell_type": "markdown",
   "metadata": {},
   "source": [
    "# Flex2D\n",
    "\n",
    "This notebook is a simple Python implementation of the Flex2D application that can be downloaded here: http://www.ux.uis.no/~nestor/work/programs.html\n",
    "\n",
    "> The displacement profile of the surface of the earth under crustal loads (e.g. mountain chains) can be well reproduced by an elastic flexural model. In this model, the uppermost layer of the earth responds to crustal loads as an elastic beam floating in a weaker, fluid-like foundation (i.e. the astenospheric mantle, Turcotte and Schubert, 1982)."
   ]
  },
  {
   "cell_type": "code",
   "execution_count": 1,
   "metadata": {},
   "outputs": [],
   "source": [
    "import pandas as pd\n",
    "import numpy as np\n",
    "import matplotlib.pyplot as plt"
   ]
  },
  {
   "cell_type": "markdown",
   "metadata": {},
   "source": [
    "## Equations\n",
    "\n",
    "The following functions implement the elastic flexural model for an infinite elastic beam with constant thickness.\n",
    "\n",
    "Much of the documentation for the equations was taken from the Help section of the Flex2D application."
   ]
  },
  {
   "cell_type": "markdown",
   "metadata": {},
   "source": [
    "Use the flexural rigidity ($D$) to express the 'strength' of the elastic lithosphere (i.e. elastic beam):\n",
    "\n",
    "$$\n",
    "D = \\frac{E\\:T^{3}}{12(1-\\nu^{2})}\n",
    "$$\n",
    "\n",
    "where $E$ is Young's modulus, $\\nu$ is Poisson ratio, and $T$ is the thickness of the elastic lithosphere."
   ]
  },
  {
   "cell_type": "code",
   "execution_count": 2,
   "metadata": {},
   "outputs": [],
   "source": [
    "def get_D(E, nu, T):\n",
    "    D = E * (T**3) / (12*(1-nu**2))\n",
    "    return D"
   ]
  },
  {
   "cell_type": "markdown",
   "metadata": {},
   "source": [
    "Invent a term $D_{(\\alpha,x)}$:\n",
    "\n",
    "$$\n",
    "D_{(\\alpha,x)} = \\exp\\left(\\frac{-x}{\\alpha}\\right)\\cos\\left(\\frac{x}{\\alpha}\\right)\n",
    "$$\n",
    "\n",
    "where $x$ is the horizontal coordinate and $\\alpha$ is a length parameter given by:\n",
    "\n",
    "$$\n",
    "\\alpha = \\left(\\frac{4D}{\\rho_{f}g}\\right)^{1/4}\n",
    "$$\n",
    "\n",
    "where $\\rho_{f}$ is the density of the foundation. This is the difference between the density of the mantle and the density of the material filling the basin. $g$ is gravity."
   ]
  },
  {
   "cell_type": "code",
   "execution_count": 3,
   "metadata": {},
   "outputs": [],
   "source": [
    "def get_D_alpha_x(x, alpha):\n",
    "    D_alpha_x = np.exp(-x/alpha) * np.cos(x/alpha)\n",
    "    return D_alpha_x\n",
    "\n",
    "def get_alpha(D, rho_f):\n",
    "    g = 9.8 #m/s**2\n",
    "    alpha = ((4*D)/(rho_f*g))**(1/4)\n",
    "    return alpha"
   ]
  },
  {
   "cell_type": "markdown",
   "metadata": {},
   "source": [
    "The deflection ($u$) at any point $c$ along the elastic lithosphere (i.e. elastic beam) is equal to:\n",
    "\n",
    "If point $c$ is under the load column:\n",
    "\n",
    "$$\n",
    "u = \\left(\\frac{q}{2k}\\right)(2-D_{(\\alpha,a)}-D_{(\\alpha,b)})\n",
    "$$\n",
    "\n",
    "If point $c$ is to the left of the load column:\n",
    "\n",
    "$$\n",
    "u = \\left(\\frac{q}{2k}\\right)(D_{(\\alpha,a)}-D_{(\\alpha,b)})\n",
    "$$\n",
    "\n",
    "If point $c$ is to the right of the load column:\n",
    "\n",
    "$$\n",
    "u = \\left(\\frac{-q}{2k}\\right)(D_{(\\alpha,a)}-D_{(\\alpha,b)})\n",
    "$$\n",
    "\n",
    "where $q/k = h(\\rho/\\rho_{f})$, $h$ is the load height, and $\\rho$ is the load density. $a$ and $b$ are measured as absolute values of distances from point $c$ to the left and right borders of the load column, respectively."
   ]
  },
  {
   "cell_type": "code",
   "execution_count": 4,
   "metadata": {},
   "outputs": [],
   "source": [
    "def get_deflection_under(h, rho, rho_f, D_alpha_a, D_alpha_b):\n",
    "    q_k = h * (rho/rho_f)\n",
    "    u = (0.5*q_k) * (2-D_alpha_a-D_alpha_b)\n",
    "    return u\n",
    "\n",
    "def get_deflection_left(h, rho, rho_f, D_alpha_a, D_alpha_b):\n",
    "    q_k = h * (rho/rho_f)\n",
    "    u = (0.5*q_k) * (D_alpha_a-D_alpha_b)\n",
    "    return u\n",
    "\n",
    "def get_deflection_right(h, rho, rho_f, D_alpha_a, D_alpha_b):\n",
    "    q_k = h * (rho/rho_f)\n",
    "    u = (-0.5*q_k) * (D_alpha_a-D_alpha_b)\n",
    "    return u"
   ]
  },
  {
   "cell_type": "markdown",
   "metadata": {},
   "source": [
    "We can put all of the equations above together to calculate the deflection profile for a single load:"
   ]
  },
  {
   "cell_type": "code",
   "execution_count": 5,
   "metadata": {},
   "outputs": [],
   "source": [
    "def get_single_deflection(x, h, rho, load_x_left, load_x_right, E, nu, T, rho_f):\n",
    "    \"\"\"\n",
    "    Calculate the deflection profile for a single load.\n",
    "    \n",
    "    Parameters\n",
    "    ----------\n",
    "    x : array_like\n",
    "        x values at which to calculate the deflection.\n",
    "        Units = m\n",
    "        \n",
    "    h : scalar\n",
    "        The height of the load.\n",
    "        Units = m\n",
    "        \n",
    "    rho : scalar\n",
    "        The density of the load.\n",
    "        Units = kg/m**3\n",
    "        \n",
    "    load_x_left : scalar\n",
    "        The x coordinate of the left edge of the load.\n",
    "        Units = m\n",
    "        \n",
    "    load_x_right : scalar\n",
    "        The x coordinate of the right edge of the load.\n",
    "        Units = m\n",
    "        \n",
    "    E : scalar\n",
    "        Young's modulus of the beam.\n",
    "        Units = Pa (or kg/m**-1/s**-2)\n",
    "        \n",
    "    nu : scalar\n",
    "        Poisson ratio of the beam.\n",
    "        Units = unitless\n",
    "        \n",
    "    T : scalar\n",
    "        Thickness of the beam.\n",
    "        Units = m\n",
    "        \n",
    "    rho_f : scalar\n",
    "        The density of the foundation.\n",
    "        Units = kg/m**3\n",
    "        \n",
    "    Returns\n",
    "    -------\n",
    "    deflection : array\n",
    "        The deflection of the beam.\n",
    "    \"\"\"\n",
    "    D = get_D(E, nu, T)\n",
    "    alpha = get_alpha(D, rho_f)\n",
    "    \n",
    "    deflection = np.zeros(len(x))\n",
    "    for i in range(len(x)):\n",
    "        if x[i] < load_x_left:\n",
    "            D_alpha_a = get_D_alpha_x(load_x_left-x[i], alpha)\n",
    "            D_alpha_b = get_D_alpha_x(load_x_right-x[i], alpha)\n",
    "            u = get_deflection_left(h, rho, rho_f, D_alpha_a, D_alpha_b)\n",
    "        elif x[i] > load_x_right:\n",
    "            D_alpha_a = get_D_alpha_x(x[i]-load_x_left, alpha)\n",
    "            D_alpha_b = get_D_alpha_x(x[i]-load_x_right, alpha)\n",
    "            u = get_deflection_right(h, rho, rho_f, D_alpha_a, D_alpha_b)\n",
    "        else:\n",
    "            D_alpha_a = get_D_alpha_x(x[i]-load_x_left, alpha)\n",
    "            D_alpha_b = get_D_alpha_x(load_x_right-x[i], alpha)\n",
    "            u = get_deflection_under(h, rho, rho_f, D_alpha_a, D_alpha_b)\n",
    "        deflection[i] = u\n",
    "        \n",
    "    return deflection"
   ]
  },
  {
   "cell_type": "markdown",
   "metadata": {},
   "source": [
    "If there is more than one load, the total displacement profile is computed by adding the displacement profiles of the individual load columns:"
   ]
  },
  {
   "cell_type": "code",
   "execution_count": 6,
   "metadata": {},
   "outputs": [],
   "source": [
    "def get_total_deflection(x, h, rho, load_x_left, load_x_right, E, nu, T, rho_f):\n",
    "    \"\"\"\n",
    "    Calculate the deflection profile for multiple loads.\n",
    "    \n",
    "    Parameters\n",
    "    ----------\n",
    "    x : array_like\n",
    "        x values at which to calculate the deflection.\n",
    "        Units = m\n",
    "        \n",
    "    h : array_like\n",
    "        The height of the loads.\n",
    "        Units = m\n",
    "        \n",
    "    rho : array_like\n",
    "        The density of the loads.\n",
    "        Units = kg/m**3\n",
    "        \n",
    "    load_x_left : array_like\n",
    "        The x coordinate of the left edge of the loads.\n",
    "        Units = m\n",
    "        \n",
    "    load_x_right : array_like\n",
    "        The x coordinate of the right edge of the loads.\n",
    "        Units = m\n",
    "        \n",
    "    E : scalar\n",
    "        Young's modulus of the beam.\n",
    "        Units = Pa (or kg/m**-1/s**-2)\n",
    "        \n",
    "    nu : scalar\n",
    "        Poisson ratio of the beam.\n",
    "        Units = unitless\n",
    "        \n",
    "    T : scalar\n",
    "        Thickness of the beam.\n",
    "        Units = m\n",
    "        \n",
    "    rho_f : scalar\n",
    "        The density of the foundation.\n",
    "        Units = kg/m**3\n",
    "        \n",
    "    Returns\n",
    "    -------\n",
    "    deflection : array\n",
    "        The deflection of the beam.\n",
    "    \"\"\"\n",
    "    deflections = np.zeros((len(x), len(load_x_left)))\n",
    "    \n",
    "    for i in range(len(load_x_left)):\n",
    "        deflection = get_single_deflection(x, h[i], rho[i], load_x_left[i], load_x_right[i], E, nu, T, rho_f)\n",
    "        deflections[:,i] = deflection\n",
    "    total_deflection = np.sum(deflections, axis=1)\n",
    "    \n",
    "    return total_deflection"
   ]
  },
  {
   "cell_type": "markdown",
   "metadata": {},
   "source": [
    "## Playground\n",
    "\n",
    "Here we can implement the elastic flexural model for different beam and load properties, then plot the results.\n",
    "\n",
    "Edit values within code cells with <font color='red'>**red**</font> text to change the properties of the beam and load(s).\n",
    "\n",
    "### Set beam properties\n",
    "\n",
    "<font color='red'>**Edit these values:**</font>"
   ]
  },
  {
   "cell_type": "code",
   "execution_count": 7,
   "metadata": {},
   "outputs": [],
   "source": [
    "# Young's modulus: Pa\n",
    "E = 70 * 1e9\n",
    "\n",
    "# Poisson's ratio: unitless\n",
    "nu = 0.25\n",
    "\n",
    "# foundation density: kg/m**3\n",
    "rho_f = 3300\n",
    "\n",
    "# thickness: m\n",
    "T = 30 * 1e3"
   ]
  },
  {
   "cell_type": "markdown",
   "metadata": {},
   "source": [
    "### Set load properties\n",
    "\n",
    "<font color='red'>**Edit these values:**</font>\n",
    "\n",
    "(One value for each load you would like to plot.)"
   ]
  },
  {
   "cell_type": "code",
   "execution_count": 8,
   "metadata": {},
   "outputs": [],
   "source": [
    "# x coordinates of the left edges: m\n",
    "load_x_left  = np.array([100, 120, 140]) * 1e3\n",
    "\n",
    "# x coordinates of the right edges: m\n",
    "load_x_right = np.array([120, 140, 160]) * 1e3\n",
    "\n",
    "# heights: m\n",
    "h = np.array([3000, 3500, 3000])\n",
    "\n",
    "# densities: kg/m**3\n",
    "rho = np.array([2700, 2700, 2700])"
   ]
  },
  {
   "cell_type": "markdown",
   "metadata": {},
   "source": [
    "Compile the load properties into a dataframe:"
   ]
  },
  {
   "cell_type": "code",
   "execution_count": 9,
   "metadata": {},
   "outputs": [
    {
     "data": {
      "text/html": [
       "<div>\n",
       "<style scoped>\n",
       "    .dataframe tbody tr th:only-of-type {\n",
       "        vertical-align: middle;\n",
       "    }\n",
       "\n",
       "    .dataframe tbody tr th {\n",
       "        vertical-align: top;\n",
       "    }\n",
       "\n",
       "    .dataframe thead th {\n",
       "        text-align: right;\n",
       "    }\n",
       "</style>\n",
       "<table border=\"1\" class=\"dataframe\">\n",
       "  <thead>\n",
       "    <tr style=\"text-align: right;\">\n",
       "      <th></th>\n",
       "      <th>x_left</th>\n",
       "      <th>x_right</th>\n",
       "      <th>h</th>\n",
       "      <th>rho</th>\n",
       "    </tr>\n",
       "  </thead>\n",
       "  <tbody>\n",
       "    <tr>\n",
       "      <th>0</th>\n",
       "      <td>100000.0</td>\n",
       "      <td>120000.0</td>\n",
       "      <td>3000</td>\n",
       "      <td>2700</td>\n",
       "    </tr>\n",
       "    <tr>\n",
       "      <th>1</th>\n",
       "      <td>120000.0</td>\n",
       "      <td>140000.0</td>\n",
       "      <td>3500</td>\n",
       "      <td>2700</td>\n",
       "    </tr>\n",
       "    <tr>\n",
       "      <th>2</th>\n",
       "      <td>140000.0</td>\n",
       "      <td>160000.0</td>\n",
       "      <td>3000</td>\n",
       "      <td>2700</td>\n",
       "    </tr>\n",
       "  </tbody>\n",
       "</table>\n",
       "</div>"
      ],
      "text/plain": [
       "     x_left   x_right     h   rho\n",
       "0  100000.0  120000.0  3000  2700\n",
       "1  120000.0  140000.0  3500  2700\n",
       "2  140000.0  160000.0  3000  2700"
      ]
     },
     "execution_count": 9,
     "metadata": {},
     "output_type": "execute_result"
    }
   ],
   "source": [
    "loads = pd.DataFrame({'x_left':load_x_left,\n",
    "                      'x_right':load_x_right,\n",
    "                      'h':h,\n",
    "                      'rho':rho})\n",
    "loads"
   ]
  },
  {
   "cell_type": "markdown",
   "metadata": {},
   "source": [
    "### Plot\n",
    "\n",
    "<font color='red'>**Edit these values:**</font>"
   ]
  },
  {
   "cell_type": "code",
   "execution_count": 10,
   "metadata": {},
   "outputs": [],
   "source": [
    "# the start and end of the x values at which to calculate the deflection: m\n",
    "x_start = 0\n",
    "x_end = 1000 * 1e3\n",
    "\n",
    "# if you want the x and y axes to have the same scale, set this to True\n",
    "to_scale = False"
   ]
  },
  {
   "cell_type": "markdown",
   "metadata": {},
   "source": [
    "Make the plot:"
   ]
  },
  {
   "cell_type": "code",
   "execution_count": 11,
   "metadata": {},
   "outputs": [
    {
     "data": {
      "image/png": "[encoded data removed]",
      "text/plain": [
       "<Figure size 1080x432 with 2 Axes>"
      ]
     },
     "metadata": {
      "needs_background": "light"
     },
     "output_type": "display_data"
    }
   ],
   "source": [
    "# linearly space the x values at which to calculate the deflection\n",
    "n_x = 1000\n",
    "x = np.linspace(x_start, x_end, n_x)\n",
    "\n",
    "# calculate the deflection\n",
    "deflection = get_total_deflection(x,\n",
    "                                  loads['h'], loads['rho'], loads['x_left'], loads['x_right'],\n",
    "                                  E, nu, T, rho_f)\n",
    "\n",
    "# set up the figure\n",
    "# note: nrows and ncols sets the number of subplots in the figure\n",
    "# note: sharex makes the x-axis shared between all subplots\n",
    "# note: figsize set the (width,height) of the figure canvas in inches\n",
    "# note: gridspec_kw sets the height ratios of subplots (among other things)\n",
    "fig, ax = plt.subplots(nrows=2, ncols=1, sharex=False, figsize=(15,6), gridspec_kw={'height_ratios':[20,1]})\n",
    "\n",
    "# plot the deflection\n",
    "# note: we plot the negative deflection to show the profile of the surface\n",
    "# note: zorder sets the plotting order (higher numbers will plot on top)\n",
    "ax[0].plot(x, -deflection, color='C0', zorder=99, linewidth=2)\n",
    "\n",
    "# plot the undeflected surface\n",
    "# note: zorder sets the plotting order (lower numbers will plot on bottom)\n",
    "ax[0].axhline(0, ls='--', c='C7', zorder=-99, linewidth=0.5)\n",
    "\n",
    "# iterate through the loads\n",
    "for i in range(len(loads)):\n",
    "    \n",
    "    # get the heights of the base of the deflected loads\n",
    "    base_height_left = -np.interp(load_x_left[i], x, deflection)\n",
    "    base_height_right = -np.interp(load_x_right[i], x, deflection)\n",
    "    \n",
    "    # get the heights of the top of the deflected loads\n",
    "    top_height_left = base_height_left + h[i]\n",
    "    top_height_right = base_height_right + h[i]\n",
    "    \n",
    "    # plot the vertical lines of the deflected loads\n",
    "    ax[0].plot([load_x_left[i], load_x_left[i]],\n",
    "               [base_height_left, top_height_left], c='C1', zorder=99, linewidth=2)\n",
    "    ax[0].plot([load_x_right[i], load_x_right[i]],\n",
    "               [base_height_right, top_height_right], c='C1', zorder=99, linewidth=2)\n",
    "    \n",
    "    # plot the top of the deflected loads\n",
    "    load_top_x = np.linspace(load_x_left[i], load_x_right[i])\n",
    "    load_top_y = -np.interp(load_top_x, x, deflection) + h[i]\n",
    "    ax[0].plot(load_top_x, load_top_y, c='C1', zorder=99, linewidth=2)\n",
    "    \n",
    "    # plot the undeflected loads\n",
    "    ax[0].plot([load_x_left[i], load_x_left[i]],\n",
    "               [0, h[i]], c='C7', ls='--', zorder=-99, linewidth=0.5)\n",
    "    ax[0].plot([load_x_right[i], load_x_right[i]],\n",
    "               [0, h[i]], c='C7', ls='--', zorder=-99, linewidth=0.5)\n",
    "    ax[0].plot([load_x_left[i], load_x_right[i]],\n",
    "               [h[i], h[i]], c='C7', ls='--', zorder=-99, linewidth=0.5)\n",
    "    \n",
    "# scale the axis if set\n",
    "if to_scale:\n",
    "    ax[0].axis('equal')\n",
    "    \n",
    "# prettify\n",
    "ax[0].set_ylabel('height (m)')\n",
    "ax[0].spines['right'].set_visible(False)\n",
    "ax[0].spines['top'].set_visible(False)\n",
    "ax[0].set_xlim(x_start, x_end)\n",
    "ax[0].set_xticklabels([])\n",
    "\n",
    "# find where the deflection is <0 and >0\n",
    "deflection_binary = np.zeros_like(deflection)\n",
    "deflection_binary[deflection>=0] = 1\n",
    "\n",
    "# plot this binary mask\n",
    "ax[1].pcolormesh(np.reshape(deflection_binary, (1,n_x)), cmap='coolwarm_r')\n",
    "\n",
    "# prettify\n",
    "ax0_xticks = ax[0].get_xticks()\n",
    "ax[1].set_xticks(np.linspace(0, n_x, len(ax0_xticks)))\n",
    "ax[1].set_xticklabels((ax0_xticks/1000).astype(np.int))\n",
    "ax[1].set_ylim(0,1)\n",
    "ax[1].set_yticks([])\n",
    "ax[1].set_xlabel('$x$ (km)')\n",
    "\n",
    "# print some values\n",
    "ax[0].text(0.8, 0.90, 'maximum negative deflection = {} m'.format(-np.max(deflection).round(1)),\n",
    "           horizontalalignment='center', verticalalignment='center', transform=ax[0].transAxes)\n",
    "ax[0].text(0.8, 0.85, 'maximum positive deflection = {} m'.format(-np.min(deflection).round(1)),\n",
    "           horizontalalignment='center', verticalalignment='center', transform=ax[0].transAxes)\n",
    "\n",
    "fig.tight_layout()\n",
    "plt.show(fig)"
   ]
  },
  {
   "cell_type": "markdown",
   "metadata": {},
   "source": [
    "Note that in the lower binary colorbar, blue represents areas where the surface is deflected below the original horizontal surface, and red represents areas where the surface is deflected above the original horizontal surface."
   ]
  }
 ],
 "metadata": {
  "kernelspec": {
   "display_name": "Python 3",
   "language": "python",
   "name": "python3"
  },
  "language_info": {
   "codemirror_mode": {
    "name": "ipython",
    "version": 3
   },
   "file_extension": ".py",
   "mimetype": "text/x-python",
   "name": "python",
   "nbconvert_exporter": "python",
   "pygments_lexer": "ipython3",
   "version": "3.7.6"
  },
  "toc": {
   "base_numbering": 1,
   "nav_menu": {},
   "number_sections": false,
   "sideBar": true,
   "skip_h1_title": false,
   "title_cell": "Table of Contents",
   "title_sidebar": "Contents",
   "toc_cell": false,
   "toc_position": {},
   "toc_section_display": true,
   "toc_window_display": false
  }
 },
 "nbformat": 4,
 "nbformat_minor": 4
}
