{
 "cells": [
  {
   "cell_type": "markdown",
   "metadata": {},
   "source": [
    "# Problem set 3: Basin development"
   ]
  },
  {
   "cell_type": "markdown",
   "metadata": {},
   "source": [
    "The Appalachian orogen is an excellent example of a continental margin that has undergone\n",
    "multiple basin development phases. These basin phases are: rift-related normal faulting, post-rift thermal subsidence, and compression-related flexural deformation and subsidence. Erosion over the past 250 Myr has denuded the Paleozoic basin-orogenic system.\n",
    "\n",
    "The creation of accommodation space over large length-scales is dominated by three processes:\n",
    "\n",
    "1. Extensional fault-controlled subsidence which is dependent on the initial thickness and\n",
    "density of the crust and lithosphere, the lithospheric geotherm, and the amount of\n",
    "uniform stretching, $\\beta$. This isostatic subsidence may occur on timescales of 10$^{5}$ yr.\n",
    "\n",
    "2. Thermal subsidence occurs when lithospheric thinning leads to upwelling of the asthenosphere\n",
    "and heating of the lithosphere, and these materials cool conductively as\n",
    "the lithospheric geotherm relaxes to the pre-stretching condition. Thermal subsidence\n",
    "depends critically on the amount of stretching, $\\beta$. Thermal subsidence rates decrease\n",
    "exponentially as heat flow decreases. For standard lithosphere, heat flow reaches $\\frac{1}{e}$ of its original value after $\\tau \\approx$ 50 Myr.\n",
    "\n",
    "3. Compression during orogenesis may lead to crustal shortening. Excess masses supported\n",
    "elastically by the lithosphere generate peripheral zones of accommodation space\n",
    "where the lithosphere is flexed downward."
   ]
  },
  {
   "cell_type": "markdown",
   "metadata": {},
   "source": [
    "<img src=\"appalachians_xsection_updated.png\">"
   ]
  },
  {
   "cell_type": "code",
   "execution_count": null,
   "metadata": {
    "collapsed": true,
    "jupyter": {
     "outputs_hidden": true
    }
   },
   "outputs": [],
   "source": [
    "import numpy as np\n",
    "import matplotlib.pyplot as plt"
   ]
  },
  {
   "cell_type": "markdown",
   "metadata": {},
   "source": [
    "### Question 1"
   ]
  },
  {
   "cell_type": "markdown",
   "metadata": {},
   "source": [
    "Study Figure 1. Based solely on the geometry of stratigraphic units, write a one paragraph\n",
    "interpretation of the evolution of the basin in the markdown cell below. (Hint: Use words/phrases like ‘rift’, ‘drift’, ‘normal\n",
    "fault’, ‘isostasy’, ’extensional’, ‘compressional’, ‘tilt’, ‘heating’, ‘thermal subsidence’,\n",
    "‘flexural’, ‘bending’, ‘foreland’, ‘unconformity’, ‘uplift’, ‘erosion’, etc.) "
   ]
  },
  {
   "cell_type": "markdown",
   "metadata": {},
   "source": [
    "*Your answer*"
   ]
  },
  {
   "cell_type": "markdown",
   "metadata": {},
   "source": [
    "### Question 2"
   ]
  },
  {
   "cell_type": "markdown",
   "metadata": {},
   "source": [
    "Using the data that is within Figure 1, plot age decreasing to the right on the x-axis and accumulated thickness\n",
    "of sediment increasing downward on the y-axis. Use the stratigraphic thickness data from G’ [420\n",
    "km] with the corresponding ages (Fig. 1). The thickness of the units are provided in meters on the figure while the ages of the boundaries between the formations are shown to the righthand side of the figure."
   ]
  },
  {
   "cell_type": "code",
   "execution_count": null,
   "metadata": {
    "collapsed": true,
    "jupyter": {
     "outputs_hidden": true
    }
   },
   "outputs": [],
   "source": [
    "age       = []\n",
    "thickness = []"
   ]
  },
  {
   "cell_type": "code",
   "execution_count": null,
   "metadata": {
    "collapsed": true,
    "jupyter": {
     "outputs_hidden": true
    }
   },
   "outputs": [],
   "source": [
    "plt.plot()\n",
    "plt.xlabel('Age (Ma)',fontsize=12)\n",
    "plt.ylabel('Depth (m)',fontsize=12)\n",
    "plt.gca().invert_xaxis()\n",
    "plt.gca().invert_yaxis()\n",
    "plt.show()"
   ]
  },
  {
   "cell_type": "markdown",
   "metadata": {},
   "source": [
    "### Teaching moment : Thermal Subsidence and Isostacy"
   ]
  },
  {
   "cell_type": "markdown",
   "metadata": {},
   "source": [
    "If we assume that the crust is isostatically compensated, then elevation is related to the density of the rocks in a vertical slice of the earth. Average crustal and subcrustal (i.e., mantle lithosphere) densities depend on temperature:\n",
    "\n",
    "\\begin{equation}\n",
    "\\rho_c = \\rho_{c}^{*} (1-\\alpha_{v} T_{c})\n",
    "\\end{equation}\n",
    "\n",
    "\\begin{equation}\n",
    "\\rho_{sc} = \\rho_m^{*} (1-\\alpha_{v} (T_{sc} - T_{m})\n",
    "\\end{equation}\n",
    "\n",
    "\\begin{equation}\n",
    "\\rho_{m} = \\rho_m^{*}\n",
    "\\end{equation}\n",
    "\n",
    "Because geotherms are close to linear:\n",
    "\\begin{equation}\n",
    "T_c = \\frac{(T_m-T_0)}{2} \\frac{y_c}{y_L}\n",
    "\\end{equation}\n",
    "\n",
    "\\begin{equation}\n",
    "T_{sc} = \\frac{1}{2} (T_m + \\frac{y_c}{y_L} (T_m-T_0)\n",
    "\\end{equation}\n",
    "\n",
    "<img src=\"temp_grad.png\">\n",
    "\n"
   ]
  },
  {
   "cell_type": "markdown",
   "metadata": {},
   "source": [
    "Here is one example of an isostatic balance equation:\n",
    "\n",
    "\\begin{equation}\n",
    "\\rho_c y_c + \\rho_{sc} (y_L - y_c) = \\rho_{s} y_{sr} + \\rho_c \\frac{y_c}{\\beta} + \\rho_{sc} (\\frac{y_L}{\\beta} -  \\frac{y_c}{\\beta}) + \\rho_m (y_L - \\frac{y_L}{\\beta} - y_{sr})\n",
    "\\end{equation}\n",
    "\n",
    "based on this stretched lithosphere:\n",
    "\n",
    "<img src=\"rift.png\">\n",
    "\n",
    "where $y_{s}$ is the thickness of syn-rift sediment and $\\beta = \\frac{original\\ thickness}{new\\ thickness}$.  Rearranging terms,\n",
    "\\begin{equation}\n",
    "y_{s} = \\frac{(1 - \\frac{1}{\\beta})}{\\rho_m - \\rho_s} \\Big( \\rho_m y_L - \\rho_c y_c - \\rho_{sc}(y_L - y_c) \\Big)\n",
    "\\end{equation}\n",
    "\n",
    "We can also rewrite this equation in terms of $\\beta$, so that we can determine $\\beta$ given observed sediment thickness and lithospheric parameters:\n",
    "\n",
    "\\begin{equation}\n",
    "\\beta = \\frac{\\rho_c y_c + \\rho_{sc} (y_L-y_c) - \\rho_m y_L}{- \\rho_{s}y_{s} + \\rho_c y_c + \\rho_{sc} (y_L-y_c) + \\rho_m (y_{sr}-y_L)}\n",
    "\\end{equation}\n",
    "\n",
    "The thermal diffusion time of the lithosphere, of the form $t = L^2 / 4 \\kappa$, is:\n",
    "\\begin{equation}\n",
    "\\tau = \\frac{y_L^2}{\\pi^2 \\kappa}\n",
    "\\end{equation}\n",
    "\n",
    "The subsidence caused by the thermal contraction as a function of time is:\n",
    "\\begin{equation}\n",
    "S(t) \\approx E_0\\frac{\\beta}{\\pi}sin(\\frac{\\pi}{\\beta})(1-e^{\\frac{-t}{\\tau}}) \n",
    "\\end{equation}\n",
    "\n",
    "where:\n",
    "\n",
    "\\begin{equation}\n",
    "E_0 = \\frac{4y_L\\rho_m^{\\ast}\\alpha_v T_m}{\\pi^2(\\rho_m^{\\ast}-\\rho_{s})}\n",
    "\\end{equation}\n",
    "\n",
    "In reality, the thickness of sediment accumulated per unit time during the thermal subsidence phase also depends on global sea level variability and on the increase in subsidence due to sediment loading (after taking sediment compaction into account). However, we will use the above approximation of subsidence for our calculations below as it will work well."
   ]
  },
  {
   "cell_type": "markdown",
   "metadata": {},
   "source": [
    "**Some necessary constants**"
   ]
  },
  {
   "cell_type": "markdown",
   "metadata": {},
   "source": [
    "| Constant | Value |\n",
    "|----------|-------|\n",
    "|Density of the continental crust at 0$^{\\circ}$C ($\\rho_{c}^{*}$) | 2800 kg m$^{-3}$ |\n",
    "|Density of the mantle at 1300$^{\\circ}$C ($\\rho_{m}^{*}$) | 3300 kg m$^{-3}$ |\n",
    "|Average Density of newly deposited carbonate and shale ($\\rho_{s}$)| 2500 kg m$^{-3}$ |\n",
    "|Thickness of unstretched continental crust ($y_{c}$)| 30 km |\n",
    "|Thickness of unstretched continental lithosphere ($y_{L}$)| 120 km |\n",
    "|Thickness of syn-rift sediments ($y_{sr}$) | *Questions 1 and 2* |\n",
    "|Thickness of thermal subsidence sediments ($y_{st}$) | *Questions 1 and 2* |\n",
    "|Thickness of foreland flexure sediments ($y_{sf}$) | *Questions 1 and 5* | \n",
    "|Temperature at the surface of the Earth ($T_{0}$) | 0$^{\\circ}$C|\n",
    "|Temperature in the mantle at the base of the Lithosphere ($T_{m}$) | 1300$^{\\circ}$C |\n",
    "|Stretching factor ($\\beta$) | *Questions 3* |\n",
    "|Thermal conductivity ($k$) | 3 W m$^{-1}$$^{\\circ}$C$^{-1}$ |\n",
    "|Thermal diffusivity ($\\kappa$) | 10$^{-6}$ m$^2$s$^{-1}$ |\n",
    "|Heat capacity ($C$) | 1000 J kg$^{-1}$$^{\\circ}$C$^{-1}$ |\n",
    "|Volumetric coefficient of thermal expansion ($\\alpha_v$) | 3.28$\\times 10^{-5}$$^{\\circ}$C$^{-1}$ |\n",
    "|Young's Modulus for Appalachian Lithosphere ($E$) | 0.6$\\times$10$^{11}$ Pa|\n",
    "|Poisson's Ratio for Appalachian Lithosphere ($\\nu$) | 0.15 |"
   ]
  },
  {
   "cell_type": "code",
   "execution_count": null,
   "metadata": {
    "collapsed": true,
    "jupyter": {
     "outputs_hidden": true
    }
   },
   "outputs": [],
   "source": [
    "# these constants are taken from the table above\n",
    "density_mantle = 3300 #kg/m**3\n",
    "thermal_expansion = 3.28e-5 #1/C\n",
    "temperature_mantle = 1300 #C\n",
    "density_sediment = 2500 #kg/m**3\n",
    "lithosphere_thickness = 120000 #m\n",
    "thermal_diffusivity = 1e-6 #m**2/s"
   ]
  },
  {
   "cell_type": "markdown",
   "metadata": {},
   "source": [
    "### Question 3"
   ]
  },
  {
   "cell_type": "markdown",
   "metadata": {},
   "source": [
    "With data from Table 1 and the relevant equations ($S(t)$, $\\tau$ and $E_0$), model the thermal subsidence profile for the basin that would result with different values of $\\beta$. You will need to use your conclusion from Question 1 to constrain the timing of the transition from rift to thermal subsidence. You may assume that all of the sediments accumulated in relatively shallow water ($<$ 50 m) and that global sea level variations were small. Overlay your plot of the data from above on a plot with a number of different subsidence profiles, and determine a value of $\\beta$ that best describe the thermal subsidence stratigraphy of the Appalachians."
   ]
  },
  {
   "cell_type": "code",
   "execution_count": null,
   "metadata": {
    "collapsed": true,
    "jupyter": {
     "outputs_hidden": true
    }
   },
   "outputs": [],
   "source": [
    "ages_Ma = np.linspace() #generate a list of ages in millions of years\n",
    "ages_s = ages_Ma * 3.154e7 * 1e6 #convert this list of ages to seconds"
   ]
  },
  {
   "cell_type": "code",
   "execution_count": null,
   "metadata": {
    "collapsed": true,
    "jupyter": {
     "outputs_hidden": true
    }
   },
   "outputs": [],
   "source": [
    "def thermal_subsidence(time, beta):\n",
    "    \"\"\"\n",
    "    Calculates the subsidence for a thermally subsiding basin after a given\n",
    "    time given a stretching factor\n",
    "    \n",
    "    Inputs\n",
    "    ------\n",
    "    time: time in seconds\n",
    "    beta: stretching factor\n",
    "    \n",
    "    Returns\n",
    "    ------\n",
    "    subsidence: amount of subsidence in meters\n",
    "    \"\"\"\n",
    "    \n",
    "    #For pi use np.pi and for e use np.e\n",
    "    \n",
    "    time_elapsed = \n",
    "    \n",
    "    return subsidence"
   ]
  },
  {
   "cell_type": "code",
   "execution_count": null,
   "metadata": {
    "collapsed": true,
    "jupyter": {
     "outputs_hidden": true
    }
   },
   "outputs": [],
   "source": [
    "##Calculate subsidence versus time for a range of betas.\n",
    "Subsidence_beta_1_1 = thermal_subsidence(ages_s, 1.1)\n",
    "Subsidence_beta_1_X = "
   ]
  },
  {
   "cell_type": "code",
   "execution_count": null,
   "metadata": {
    "collapsed": true,
    "jupyter": {
     "outputs_hidden": true
    }
   },
   "outputs": [],
   "source": [
    "## Plot thermal subsidence curves for different beta values along with the data from Question 1\n",
    "plt.plot()\n",
    "plt.plot()\n",
    "plt.plot()\n",
    "plt.plot()\n",
    "plt.plot()\n",
    "\n",
    "plt.xlabel('Age (Ma)',fontsize=12)\n",
    "plt.ylabel('Depth (m)',fontsize=12)\n",
    "plt.gca().invert_xaxis()\n",
    "plt.gca().invert_yaxis()\n",
    "plt.legend(loc=3)\n",
    "plt.show()"
   ]
  },
  {
   "cell_type": "markdown",
   "metadata": {},
   "source": [
    "### Question 4"
   ]
  },
  {
   "cell_type": "markdown",
   "metadata": {},
   "source": [
    "What value for the stretching factor ($\\beta$) best matches the Appalachian Basin cross section? Over what time interval is the basin subsidence history well-described by simple thermal subsidence? "
   ]
  },
  {
   "cell_type": "markdown",
   "metadata": {},
   "source": [
    "*your answer here*"
   ]
  },
  {
   "cell_type": "markdown",
   "metadata": {},
   "source": [
    "### Teaching moment : Flexure"
   ]
  },
  {
   "cell_type": "markdown",
   "metadata": {},
   "source": [
    "When an applied load $q(x)$, flexes a plate of thickness $y_L$, the region that is deflected by an amount, $w$, over a length scale, $x$, under the influence of horizontal forces, $P$, is filled with water or sediment, and this infilling material is less dense than the mantle it is displacing.  The density difference is $\\Delta \\rho$.  The magnitude of the restoring force on the base of the deflected plate is $\\Delta \\rho g w$.  The general flexural equation can be written:\n",
    "\\begin{equation}\n",
    "D\\frac{d^4w}{dx^4} + P\\frac{d^2}{dx^2w} + \\Delta \\rho g w= q_a(x),\n",
    "\\end{equation}\n",
    "In general, the wavelength of the flexure depends on the flexural rigidity of the lithosphere, while the maximum deflection is dependent on the flexural rigidity and the magnitude of the applied load.\n",
    "\n",
    "If the maximum deflection, $w_0$ for a broken plate loaded at its end is known, we have the relationship for $w(x)$:\n",
    "\\begin{equation}\n",
    "w = w_0 e^{-x/\\alpha}\\cos{\\frac{x}{\\alpha}}\n",
    "\\end{equation}\n",
    "where:\n",
    "\\begin{equation}\n",
    "\\alpha = \\Big( \\frac{4 D}{\\Delta \\rho g} \\Big)^{1/4}\n",
    "\\end{equation}\n",
    "and flexural rigidity (D) is:\n",
    "\\begin{equation}\n",
    "D= \\frac{E h^3}{12 (1 - \\nu^2)}\n",
    "\\end{equation} \n",
    "Where $h$ is the thickness of the plates, $E$ is Young's modulus and $\\nu$ is Poisson's ratio. \n",
    "\n",
    "Then, the half width of the basin at $w = 0$ is:\n",
    "\\begin{equation}\n",
    "x_0 = \\frac{\\pi \\alpha}{2}\n",
    "\\end{equation}\n",
    "so the basin is narrower for the case of a broken plate.  The distance to the crest of the forebulge ($dw/dx = 0$) is:\n",
    "\\begin{equation}\n",
    "x_b = \\frac{3 \\pi \\alpha}{4}\n",
    "\\end{equation}\n",
    "Finally, the height of the forebulge (where $x_b = 3\\pi\\alpha/4$) is:\n",
    "\\begin{equation}\n",
    "w_b = w_0 e^{-3\\pi/4}\\cos{\\frac{3\\pi}{4}} = -0.0670w_0\n",
    "\\end{equation}"
   ]
  },
  {
   "cell_type": "markdown",
   "metadata": {},
   "source": [
    "### Question 5"
   ]
  },
  {
   "cell_type": "markdown",
   "metadata": {},
   "source": [
    "Using Figure 1, construct a table and accompanying plot with distance eastward increasing to the right on the x-axis, and accumulated thickness of sediment increasing downward on the y-axis, for post-thermal subsidence sedimentary rocks.\n",
    "\n",
    "Plot thickness data for each Group/Formation individually, as well as for the total thickness of post thermal subsidence sediment."
   ]
  },
  {
   "cell_type": "code",
   "execution_count": null,
   "metadata": {
    "collapsed": true,
    "jupyter": {
     "outputs_hidden": true
    }
   },
   "outputs": [],
   "source": [
    "distance_east        = []\n",
    "trenton_thickness    = []\n",
    "utica_thickness      = []\n",
    "reedsville_thickness = []\n",
    "clinton_thickness    = []\n",
    "total_thickness      = []                  "
   ]
  },
  {
   "cell_type": "code",
   "execution_count": null,
   "metadata": {
    "collapsed": true,
    "jupyter": {
     "outputs_hidden": true
    }
   },
   "outputs": [],
   "source": [
    "#Plot thickness data for each Group/Formation individually, as well as for the total \n",
    "#thickness of post thermal subsidence sediment.\n",
    "plt.plot()\n",
    "\n",
    "plt.xlabel('Distance eastward (km)',fontsize=12)\n",
    "plt.ylabel('Accumulated sediment (m)',fontsize=12)\n",
    "\n",
    "plt.gca().invert_yaxis()\n",
    "plt.legend(loc=3)\n",
    "plt.show()"
   ]
  },
  {
   "cell_type": "markdown",
   "metadata": {},
   "source": [
    "## Question 6"
   ]
  },
  {
   "cell_type": "markdown",
   "metadata": {},
   "source": [
    "Describe the pattern of post-thermal subsidence sediment accumulation. Then, in two to\n",
    "three sentences, propose a hypothesis for the origin of the Black River - Clinton Basin, and\n",
    "for the top-Newala erosional unconformity and depositional hiatus."
   ]
  },
  {
   "cell_type": "markdown",
   "metadata": {},
   "source": [
    "*Your answer*"
   ]
  },
  {
   "cell_type": "markdown",
   "metadata": {},
   "source": [
    "## Question 7"
   ]
  },
  {
   "cell_type": "markdown",
   "metadata": {},
   "source": [
    "With the relevant equations provided above, model the shape of the Black River-Clinton basin, and overlay your model results on the Figure you generated in Question 5.\n",
    "\n",
    "• For $h$, be sure to use the appropriate value for the post-rift thinned lithosphere using your best fit beta value ($\\frac{y_L}{\\beta}$).\n",
    "\n",
    "• Assume that the maximum deflection is w$_{o}$ = 3000 and that **w$_{o}$ occurs 120 km to the\n",
    "east of G’ at the Taconic orogenic front (i.e., x=0 occurs at 540 km on Fig. 1 which is off of the figure).**"
   ]
  },
  {
   "cell_type": "code",
   "execution_count": null,
   "metadata": {
    "collapsed": true,
    "jupyter": {
     "outputs_hidden": true
    }
   },
   "outputs": [],
   "source": [
    "# these constants are taken from the table above\n",
    "youngs_modulus = 6.00E+10 #Pa\n",
    "poisson_ratio = 0.15 \n",
    "distance_km = np.arange(0, 540) # km\n",
    "distance_m = distance_km * 1000 # m\n",
    "acceleration_gravity = 9.81 #m/s2\n",
    "\n",
    "#Fill in your answer using the beta you determined in Question 4\n",
    "thinned_lithosphere = "
   ]
  },
  {
   "cell_type": "code",
   "execution_count": null,
   "metadata": {
    "collapsed": true,
    "jupyter": {
     "outputs_hidden": true
    }
   },
   "outputs": [],
   "source": [
    "def deflection(distance, w0):\n",
    "    \"\"\"\n",
    "    Calculate elevation as a function of distance in meters and maximum deflection (w0) also in meters.\n",
    "    \n",
    "    \n",
    "    Inputs\n",
    "    ------\n",
    "\n",
    "    \n",
    "    Returns\n",
    "    ------\n",
    "\n",
    "    \"\"\"\n",
    "    \n",
    "    #For pi use np.pi, for cosine use np.cos, and for e use np.e\n",
    "    \n",
    "    density_difference = density_mantle - density_sediment\n",
    "    \n",
    "    D = \n",
    "    \n",
    "    alpha = \n",
    "\n",
    "    deflection = \n",
    "        \n",
    "    return deflection"
   ]
  },
  {
   "cell_type": "code",
   "execution_count": null,
   "metadata": {
    "collapsed": true,
    "jupyter": {
     "outputs_hidden": true
    }
   },
   "outputs": [],
   "source": [
    "##Plot data and flexural model. \n",
    "\n",
    "plt.plot()\n",
    "\n",
    "plt.xlabel('Distance eastward (km)',fontsize=12)\n",
    "plt.ylabel('Accumulated sediment (m)',fontsize=12)\n",
    "plt.axis([0,420,2500,0])\n",
    "plt.legend(loc=3)\n",
    "plt.show()"
   ]
  },
  {
   "cell_type": "markdown",
   "metadata": {},
   "source": [
    "## Question 8"
   ]
  },
  {
   "cell_type": "markdown",
   "metadata": {},
   "source": [
    "How does the shape of your model curve compare to the curve of total accumulated post thermal-subsidence sediment? Does your model predict the correct location of the forebulge?"
   ]
  },
  {
   "cell_type": "markdown",
   "metadata": {},
   "source": [
    "*your answer here*"
   ]
  },
  {
   "cell_type": "markdown",
   "metadata": {},
   "source": [
    "## Question 9"
   ]
  },
  {
   "cell_type": "markdown",
   "metadata": {},
   "source": [
    "How do the model sediment thicknesses compare to the curve for total sediment thickness\n",
    "that you generated in Question 5? Does applying a uniform depth translation (constant at\n",
    "all x positions) of the model curve allow a better fit to the data? If so, plot this translated subsidence profile below. What do you think a\n",
    "physical explanation explanation of this translation might be?"
   ]
  },
  {
   "cell_type": "markdown",
   "metadata": {},
   "source": [
    "*your answer here*"
   ]
  },
  {
   "cell_type": "code",
   "execution_count": null,
   "metadata": {
    "collapsed": true,
    "jupyter": {
     "outputs_hidden": true
    }
   },
   "outputs": [],
   "source": [
    "##Plot data and flexural model. \n",
    "\n",
    "plt.plot()\n",
    "\n",
    "plt.xlabel('Distance eastward (km)',fontsize=12)\n",
    "plt.ylabel('Accumulated sediment (m)',fontsize=12)\n",
    "plt.axis([0,420,2500,0])\n",
    "plt.legend(loc=3)\n",
    "plt.show()"
   ]
  }
 ],
 "metadata": {
  "kernelspec": {
   "display_name": "Python 3",
   "language": "python",
   "name": "python3"
  },
  "language_info": {
   "codemirror_mode": {
    "name": "ipython",
    "version": 3
   },
   "file_extension": ".py",
   "mimetype": "text/x-python",
   "name": "python",
   "nbconvert_exporter": "python",
   "pygments_lexer": "ipython3",
   "version": "3.7.3"
  },
  "nav_menu": {},
  "toc": {
   "navigate_menu": true,
   "number_sections": true,
   "sideBar": true,
   "threshold": 6,
   "toc_cell": false,
   "toc_section_display": "block",
   "toc_window_display": false
  }
 },
 "nbformat": 4,
 "nbformat_minor": 4
}
