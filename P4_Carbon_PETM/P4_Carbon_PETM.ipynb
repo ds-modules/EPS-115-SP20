{
 "cells": [
  {
   "cell_type": "markdown",
   "metadata": {},
   "source": [
    "Import scientific Python modules"
   ]
  },
  {
   "cell_type": "code",
   "execution_count": null,
   "metadata": {
    "colab": {},
    "colab_type": "code",
    "id": "JqwZH-0FRlBX"
   },
   "outputs": [],
   "source": [
    "import numpy as np\n",
    "import pandas as pd\n",
    "import matplotlib.pyplot as plt"
   ]
  },
  {
   "cell_type": "markdown",
   "metadata": {
    "colab_type": "text",
    "id": "aUAL9yDwRlBg"
   },
   "source": [
    "# Problem Set 4 - Carbon\n",
    "\n",
    "**In this problem set, we consider the residence time of carbon on the surface of Earth and use carbon isotopes to investigate potential carbon sources that could have caused the Paleocene-Eocene Thermal Maximum.**\n",
    "\n",
    "These values will be necessary for Questions 1, 2 and 3:\n",
    "\n",
    "| Quantity | Value |\n",
    "|----------|-------|\n",
    "| Pre-Industrial CO$_2$ atmosphere | 280 ppmv |\n",
    "| Recent CO$_2$ atmosphere | 405 ppmv |\n",
    "| Mean Mass of Atmosphere | 5.14$\\times10^{21}$ g |\n",
    "| Composition of Atmosphere | 78$\\%$ N$_2$, 21$\\%$ O$_2$, 1$\\%$ Ar |\n",
    "| Carbon in Ocean | 38,000 Gton |\n",
    "| Carbon in Terrestrial Biosphere | 2200 Gton |\n",
    "| $F_{in/out}$ (oceans) | 90 Gton$/$yr |\n",
    "| $F_{in/out}$ (terr. bio) | 120 Gton$/$yr |\n",
    "| $F_{in}$ (volcanism) | 0.1 Gton$/$yr |"
   ]
  },
  {
   "cell_type": "markdown",
   "metadata": {
    "colab_type": "text",
    "id": "HFuh7zaKRlBi"
   },
   "source": [
    "## Question 1 (5 points)\n",
    "\n",
    "Using the parameters collected in the table above and a periodic table of the elements, calculate the mass of carbon in the Recent and Pre-Industrial atmosphere.  Assume all atmospheric gases act like ideal gases, and that all carbon in the atmosphere is in the form of CO$_2$ (i.e., ignore methane, etc.) At the standard temperature and pressure, the mole ratio of a gas is the same as its volume ratio which means that 405 ppmv means that there is $405\\times10^{-6} \\frac{mol\\;C}{mol\\;atmosphere}$\n",
    "\n",
    "in Python code this number is:\n",
    "```\n",
    "405e-6\n",
    "```\n",
    "\n",
    "Your answers should be expressed in Gton (and should be between 100 and 1000 Gton). There are 1e15 grams in a Gton (1 Gt = 1 Pg = 10$^{15}$ g). \n",
    "\n",
    "Use the first cell below to describe how you would do such a calculation and use the second and third cells to do the calculation. "
   ]
  },
  {
   "cell_type": "markdown",
   "metadata": {
    "colab_type": "text",
    "id": "yNuoEDVGSutT"
   },
   "source": [
    "*Use this text cell to write your answer.*"
   ]
  },
  {
   "cell_type": "markdown",
   "metadata": {
    "colab_type": "text",
    "id": "B1-owxfNRlBj"
   },
   "source": [
    "Recent (Gton):"
   ]
  },
  {
   "cell_type": "code",
   "execution_count": null,
   "metadata": {
    "colab": {},
    "colab_type": "code",
    "id": "y1-6bLjCS68n"
   },
   "outputs": [],
   "source": [
    "# Use this code cell to calculate your answer. \n",
    "# Assign your answer to be the variable recent_atm_C\n",
    "\n",
    "\n",
    "\n",
    "# Once you have calculated recent_atm_C you can print it using this print() code\n",
    "print('C in recent atmosphere = {:.2f} Gton'.format(recent_atm_C))"
   ]
  },
  {
   "cell_type": "markdown",
   "metadata": {
    "colab_type": "text",
    "id": "wPGkQQUARlBq"
   },
   "source": [
    "Pre-Industrial (Gton):"
   ]
  },
  {
   "cell_type": "code",
   "execution_count": null,
   "metadata": {
    "colab": {},
    "colab_type": "code",
    "id": "OWOd3WW9S68v"
   },
   "outputs": [],
   "source": [
    "# Use this code cell to calculate your answer.\n"
   ]
  },
  {
   "cell_type": "markdown",
   "metadata": {
    "colab_type": "text",
    "id": "bZ-ElPV2RlBu"
   },
   "source": [
    "## Question 2: carbon residence time\n",
    "\n",
    "As we have discussed in lecture, the residence time is the average duration of time that an entity, in this case a carbon atom, will remain in a reservoir. It is really only meaningful for a reservoir that is at or near a steady state condition where the flux in is equal to the flux out. By definition, the residence time is the amount of material in the reservoir, divided by either the total inflow or the outflow (they are equal when the reservoir is at steady-state equilibrium).\n",
    "\n",
    "$residence\\;time = \\frac{amount\\;in\\;reservoir}{inflow\\;at\\;steady\\;state}$"
   ]
  },
  {
   "cell_type": "markdown",
   "metadata": {
    "colab_type": "text",
    "id": "bZ-ElPV2RlBu"
   },
   "source": [
    "### Part 2A (2 points)\n",
    "\n",
    "What is the residence time of carbon in the ocean?"
   ]
  },
  {
   "cell_type": "code",
   "execution_count": null,
   "metadata": {
    "colab": {},
    "colab_type": "code",
    "id": "mjQCE6FSS682"
   },
   "outputs": [],
   "source": [
    "# Use this code cell to calculate your answer.\n"
   ]
  },
  {
   "cell_type": "markdown",
   "metadata": {},
   "source": [
    "*Use this text cell to type out your answer*"
   ]
  },
  {
   "cell_type": "markdown",
   "metadata": {
    "colab_type": "text",
    "id": "4H8IXM_ZRlBz"
   },
   "source": [
    "### Part 2B (2 points)\n",
    "\n",
    "What is the residence time of carbon in the biosphere?"
   ]
  },
  {
   "cell_type": "code",
   "execution_count": null,
   "metadata": {
    "colab": {},
    "colab_type": "code",
    "id": "-ZOz1L5AS688"
   },
   "outputs": [],
   "source": [
    "# Use this code cell to calculate your answer.\n"
   ]
  },
  {
   "cell_type": "markdown",
   "metadata": {},
   "source": [
    "*Use this text cell to type out your answer*"
   ]
  },
  {
   "cell_type": "markdown",
   "metadata": {
    "colab_type": "text",
    "id": "waPMXYmcRlB2"
   },
   "source": [
    "### Part 2C (2 points)\n",
    "\n",
    "What was the residence time of carbon in the pre-industrial atmosphere? Be sure to consider all of the fluxes in and out of the atmosphere presented in the table above."
   ]
  },
  {
   "cell_type": "code",
   "execution_count": null,
   "metadata": {
    "colab": {},
    "colab_type": "code",
    "id": "fNN8eRNmS69C"
   },
   "outputs": [],
   "source": [
    "# Use this code cell to calculate your answer.\n"
   ]
  },
  {
   "cell_type": "markdown",
   "metadata": {},
   "source": [
    "*Use this text cell to type out your answer*"
   ]
  },
  {
   "cell_type": "markdown",
   "metadata": {
    "colab_type": "text",
    "id": "rxg-x8ybRlB5"
   },
   "source": [
    "## Question 3: the geologic carbon cycle\n",
    "\n",
    "If excess CO$_2$ is injected into the atmosphere (e.g., fossil fuel burning), the total amount of carbon in the ocean-atmosphere-biosphere system remains elevated, until the CO$_2$ is sequestered as CaCO$_3$ in sedimentary rock. In a steady-state system, the CO$_2$ sink due to chemical weathering and burial of carbon in sedimentary rocks is balanced by the CO$_2$ source from metamorphic reactions and associated volcanic outgassing of CO$_2$ ($F_{in}(V)$, Table 1).  This balance can be summarized by the Urey equation:\n",
    "\n",
    "\\begin{equation}\n",
    "CaSiO_3 + CO_2 \\begin{array}{c}\n",
    "\\textrm{weathering$\\&$burial} \\\\\n",
    "\\rightleftharpoons \\\\\n",
    "\\textrm{metamorphism}\n",
    "\\end{array} CaCO_3 + SiO_2, \n",
    "\\end{equation}"
   ]
  },
  {
   "cell_type": "markdown",
   "metadata": {
    "colab_type": "text",
    "id": "C_OuoaSOTsPw"
   },
   "source": [
    "### Part 3A (3 points)\n",
    "\n",
    "What is the residence time of carbon in the total ocean-atmosphere system (i.e., treating the ocean and atmosphere as a single carbon reservoir)?  You can ignore the terrestrial biosphere for this question because the terrestrial biosphere is small compared to the reservoir of carbon in the ocean, and equilibrates quickly with the ocean+atmosphere reservoir. To answer this problem, carefully think through what the $F_{in}$ is on million-year timescales and use it."
   ]
  },
  {
   "cell_type": "code",
   "execution_count": null,
   "metadata": {
    "colab": {},
    "colab_type": "code",
    "id": "3Pe1jc3US69H"
   },
   "outputs": [],
   "source": [
    "# Use this code cell to calculate your answer.\n"
   ]
  },
  {
   "cell_type": "markdown",
   "metadata": {},
   "source": [
    "*Use this text cell to type out your answer*"
   ]
  },
  {
   "cell_type": "markdown",
   "metadata": {
    "colab_type": "text",
    "id": "m3YPZWc4Tt_O"
   },
   "source": [
    "### Part 3B (3 points)\n",
    "\n",
    "Let us imagine a scenario in which the steady-state carbon system described above is perturbed, and the flux of carbon going into the total ocean-atmosphere system (i.e. $F_{in}$) is reduced by 10%. In the absence of any feedbacks (i.e. $F_{out}$ does not change), how long would it take for all carbon to be removed from the ocean-atmosphere system?"
   ]
  },
  {
   "cell_type": "code",
   "execution_count": null,
   "metadata": {
    "colab": {},
    "colab_type": "code",
    "id": "W7tckyLES69N"
   },
   "outputs": [],
   "source": [
    "# Use this code cell to calculate your answer.\n"
   ]
  },
  {
   "cell_type": "markdown",
   "metadata": {
    "colab_type": "text",
    "id": "IVgvUsavar-m"
   },
   "source": [
    "### Part 3C (3 points)\n",
    "\n",
    "Considering that Earth's surface needs to be equable for the vast majority of at least the past ~560 million years in order to sustain complex life, do you think that a negative feedback on changes to the flux of carbon going into/out of the total ocean-atmosphere system is necessary? Why? If you think that a negative feedback is necessary, what mechanisms can you think of that provide this negative feedback? Reference your answer to Question 3b in your response."
   ]
  },
  {
   "cell_type": "markdown",
   "metadata": {
    "colab_type": "text",
    "id": "ZXy2EX1Xc_u6"
   },
   "source": [
    "*Use this text cell to write your answer.*"
   ]
  },
  {
   "cell_type": "markdown",
   "metadata": {
    "colab_type": "text",
    "id": "g79WZKyHS8sD"
   },
   "source": [
    "## Question 4: Carbon fluxes associated with the PETM\n",
    "\n",
    "The behavior of the reservoirs and fluxes of carbon is of central interest to biogeochemistry. Stable carbon isotope research has played an important role in constraining fluxes in and out of carbon reservoirs. In particular, carbon isotope records from marine carbonates are an important tool in understanding carbon cycling through time. Fractionation between inorganic carbon species is small while the fractionation between inorganic and biologic carbon is quite large (ca. -25 ‰), as the metabolic reduction of carbon strongly partitions $^{12}$C into organic matter. In the ocean, nearly all primary production and precipitation of carbonate occurs in the photic zone (surface ocean). Marine carbonates form in near equilibrium with the dissolved inorganic carbon (DIC) of the surface ocean and, since fractionation of stable C isotopes during carbonate precipitation is very small and not sensitive to temperature, the $\\delta^{13}$C values of ancient marine carbonates is taken to represent the $\\delta^{13}$C value of ancient surface DIC. A simple two box ocean carbon isotope isotope model illustrating the system is shown below:\n",
    "\n",
    "<img src=\"C_boxmodel.png\">\n",
    "\n",
    "We think that the value of $\\delta^{13}C_{in}$ has been fixed through time at $\\sim$-6 ‰ and that the fractionation between inorganic and organic carbon $\\Delta$ has been fixed through time at $\\sim$-25 ‰. As we have discussed in class, we also know that when carbonate rocks form from inorganic carbon in the ocean they assume the isotopic value of dissolved inorganic carbon (DIC) with minimal fractionation such that $\\delta^{13}$C$_{carbonate}$ = $\\delta^{13}$C$_{DIC}$. As we discussed in class, the typical ratio of organic to inorganic carbon burial makes it such that carbonates typically have a $\\delta^{13}C$ value of ~1‰.\n",
    "\n",
    "However, big fluxes of carbon into the system can perturb the steady-state that is shown in the figure above and can lead to changes in $\\delta^{13}C$ . One such event is the Paleocene-Eocene Thermal Maximum (PETM).\n",
    "\n",
    "At the Paleocene-Eocene boundary 56 million years ago, terrestrial and marine organisms experienced large shifts in geographic ranges, rapid evolution, and changes in trophic ecology. Synchronous with these changes was the extinction of benthic foraminifera species, ~5-8°C of global warming, extensive dissolution of deep-marine carbonates, and large excursions in the carbon isotopic composition ($\\delta^{13}C$) of marine carbonates."
   ]
  },
  {
   "cell_type": "markdown",
   "metadata": {
    "colab_type": "text",
    "id": "g79WZKyHS8sD"
   },
   "source": [
    "### Part 4A (2 points)\n",
    "\n",
    "Included with this problem set is a data file named `Barnet2019a_slice.csv`, which has been modified from a compilation of $\\delta^{13}C$ measurements on benthic foraminifera calcite that span the PETM (Barnet et al., 2019; https://doi.org/10.1029/2019PA003556). The age in this file is given in thousands of years (ka which stands for kiloannum).\n",
    "\n",
    "Using this dataset, plot $\\delta^{13}C$ versus age. Remember to label your axes.\n",
    "\n",
    "**Refer to your past problem set notebooks to see how to read in data from a .csv file (using the `pd.read_csv()` function), and how to plot data from it (using the `plt.scatter()` function) and do things like label the axes.**"
   ]
  },
  {
   "cell_type": "code",
   "execution_count": 1,
   "metadata": {
    "colab": {},
    "colab_type": "code",
    "id": "AE7gBxutS69X"
   },
   "outputs": [],
   "source": [
    "# Use this code cell to import the data and make a plot.\n"
   ]
  },
  {
   "cell_type": "markdown",
   "metadata": {
    "colab_type": "text",
    "id": "K0G7InpJS69b"
   },
   "source": [
    "### Part 4B (2 points)\n",
    "\n",
    "How long did it take for the $\\delta^{13}C$ to go from background values (i.e. pre-PETM values) to the most negative values of the PETM excursion? What is the magnitude of this excursion?"
   ]
  },
  {
   "cell_type": "markdown",
   "metadata": {},
   "source": [
    "*write your answer here*"
   ]
  },
  {
   "cell_type": "markdown",
   "metadata": {
    "colab_type": "text",
    "id": "K0G7InpJS69b"
   },
   "source": [
    "Given the time-scale of the PETM, do you think that the global carbon cycle maintained steady-state through the PETM? Therefore, is a change in $f_{org}$ as discussed in class for the Carboniferous Period a viable explanation for the PETM excursion?"
   ]
  },
  {
   "cell_type": "markdown",
   "metadata": {
    "colab_type": "text",
    "id": "yr2AcSD9S69b"
   },
   "source": [
    "*Use this text cell to write your answer.*"
   ]
  },
  {
   "cell_type": "markdown",
   "metadata": {
    "colab_type": "text",
    "id": "m_B-bXlzS69g"
   },
   "source": [
    "### Part 4C (3 points)\n",
    "\n",
    "Multiple lines of evidence indicate a massive release of carbon at the PETM including:\n",
    "\n",
    "* the large, global negative carbon isotope excursion \n",
    "* the extensive dissolution of deep-marine carbonates\n",
    "* significnat global warming recorded in the ocean and on land\n",
    "\n",
    "The negative shift in $\\delta^{13}C$ values shows that the carbon released was depleted in $^{13}$C relative to the pre-PETM ocean+atmosphere+biosphere reservoir, and was therefore organic carbon because $^{12}$C is preferentially incorporated during photosynthesis.\n",
    "\n",
    "As detailed in McInerney and Wing (2011), there are several plausible hypotheses for the sources that provided a massive release of $^{12}$C-enriched carbon. These sources have different $\\delta^{13}C$ values:\n",
    "\n",
    "* Methane clathrates\n",
    "    * Methane clathrates are icy solids consisting of methane surrounded by water molecules. They are stable in deep-sea sediments, but they can be destabilized by increasing temperature caused by changes in ocean circulation or by decreasing pressure resulting from slope failure. This microbial methane has a $\\delta^{13}C$ value of ∼−60‰.\n",
    "* Wildfires\n",
    "    * Burning of the extensive peat and coal deposited during the Paleocene ($\\delta^{13}C$ of ∼−22‰) could have resulted from increasing atmospheric O$_{2}$, dryer climates, and/or uplift of coal basins.\n",
    "* Thermogenic methane\n",
    "    * Injection of magma into organic-rich sediments could have caused the explosive release of thermogenic methane ($\\delta^{13}C$ of ∼−30‰) from Cretaceous-Paleocene mudstones in the North Atlantic.\n",
    "* Drying epicontinental seas\n",
    "    * Tectonically driven isolation of an epicontinental seaway could have led to rapid (<20 ka) desiccation and oxidation of organic matter ($\\delta^{13}C$ of ∼−22‰).\n",
    "* Permafrost\n",
    "    * During the Paleogene, Antarctica did not support a large ice cap and may have stored vast quantities of carbon as permafrost and peat that could have been rapidly thawed and oxidized, releasing carbon ($\\delta^{13}C$ of ∼−30‰).\n",
    "    \n",
    "Since we know the carbon isotope composition of these different proposed sources, we can calculate the mass of carbon required from each of these sources to generate the observed PETM carbon isotope excursion. To do so, we use the following equations:\n",
    "\n",
    "$$\n",
    "(M_{final} \\times \\delta^{13}C_{final}) = (M_{initial} \\times \\delta^{13}C_{initial}) + (M_{added} \\times \\delta^{13}C_{added})\n",
    "$$\n",
    "\n",
    "To preserve mass balance:\n",
    "\n",
    "$$\n",
    "M_{final} = M_{initial} + M_{added}\n",
    "$$\n",
    "\n",
    "Combining these two equations gives us:\n",
    "\n",
    "$$\n",
    "M_{added} = \\frac{(\\delta^{13}C_{initial} - \\delta^{13}C_{final}) \\times M_{initial}}{\\delta^{13}C_{final} - \\delta^{13}C_{added}}\n",
    "$$"
   ]
  },
  {
   "cell_type": "markdown",
   "metadata": {
    "colab_type": "text",
    "id": "m_B-bXlzS69g"
   },
   "source": [
    "Use the values from the compilation of $\\delta^{13}C$ measurements on marine carbonates that span the PETM to calculate the mass of carbon required to generate the observed PETM carbon isotope excursion for the following sources:\n",
    "\n",
    "* methane clathrates ($\\delta^{13}C$ = −60‰)\n",
    "* wildfires/drying epicontinental seas ($\\delta^{13}C$ = −22‰)\n",
    "* thermogenic methane/permafrost ($\\delta^{13}C$ = −30‰)\n",
    "\n",
    "Take the initial mass of the surface reservoir of carbon ($M_{initial}$) to be 50,000 Gt.\n",
    "\n",
    "You will need to report 3 values, one for each of the 3 sources listed above. Note that wildfires/drying epicontinental seas and thermogenic methane/permafrost cannot be distinguished since they have approximately the same $\\delta^{13}C$."
   ]
  },
  {
   "cell_type": "code",
   "execution_count": null,
   "metadata": {},
   "outputs": [],
   "source": [
    "# Use this code cell to calculate your answer for methane clathrates.\n"
   ]
  },
  {
   "cell_type": "code",
   "execution_count": 3,
   "metadata": {
    "colab": {},
    "colab_type": "code",
    "id": "XjuegGZQS69h"
   },
   "outputs": [],
   "source": [
    "# Use this code cell to calculate your answer for drying epicontinental seas.\n"
   ]
  },
  {
   "cell_type": "code",
   "execution_count": 4,
   "metadata": {},
   "outputs": [],
   "source": [
    "# Use this code cell to calculate your answer for thermogenic methane.\n"
   ]
  },
  {
   "cell_type": "markdown",
   "metadata": {},
   "source": [
    "### Part 4D (3 points)\n",
    "\n",
    "The benthic foraminifera calcite record is potentially a problematic archive given all the dissolution that occurred during the PETM that could obscure the signal. As detailed in McInerney and Wing (2011), the best estimate for the magnitude of the carbon isotope excursion is that it was -4.6‰. If carbonate carbon isotopes started at 2‰ and went down to -2.6‰, how much larger would the carbon sources need to be than the calculations above."
   ]
  },
  {
   "cell_type": "code",
   "execution_count": null,
   "metadata": {},
   "outputs": [],
   "source": [
    "# Use this code cell to calculate your answer for methane clathrates.\n",
    "\n"
   ]
  },
  {
   "cell_type": "code",
   "execution_count": null,
   "metadata": {},
   "outputs": [],
   "source": [
    "# Use this code cell to calculate your answer for drying epicontinental seas.\n",
    "\n"
   ]
  },
  {
   "cell_type": "code",
   "execution_count": null,
   "metadata": {},
   "outputs": [],
   "source": [
    "# Use this code cell to calculate your answer for thermogenic methane.\n",
    "\n"
   ]
  },
  {
   "cell_type": "markdown",
   "metadata": {
    "colab_type": "text",
    "id": "cn8ZZwSLS69j"
   },
   "source": [
    "### Part 4E (6 points)\n",
    "\n",
    "Suggest, describe, and discuss at least two ways in which you could potentially determine which of the 5 possible sources listed in Part 5C actually caused the PETM.\n",
    "\n",
    "Some questions (that you don't necessarily have to answer specifically) to guide you in the right direction:\n",
    "\n",
    "* What types of additional data could you collect?\n",
    "* What types of additional calculations could you make?\n",
    "* Do we know of any notable events occurring at the same time as the PETM?\n",
    "\n",
    "Do some investigation in the primary literature (Google Scholar is a good place to start) to help you in answering this question. Your sources which should be articles published in scientific journals. Include a works cited section in addition to parenthetical citations.\n",
    "\n",
    "**Quarantine note: you can access journal articles using a non-campus WiFi network by following the instructions [here](https://www.lib.berkeley.edu/using-the-libraries/vpn).**"
   ]
  },
  {
   "cell_type": "markdown",
   "metadata": {
    "colab_type": "text",
    "id": "VopqIWOvS69k"
   },
   "source": [
    "*Use this text cell to write your answer.*"
   ]
  }
 ],
 "metadata": {
  "colab": {
   "collapsed_sections": [],
   "name": "P4_Carbon_2020.ipynb",
   "provenance": [],
   "toc_visible": true
  },
  "kernelspec": {
   "display_name": "Python 3",
   "language": "python",
   "name": "python3"
  },
  "language_info": {
   "codemirror_mode": {
    "name": "ipython",
    "version": 3
   },
   "file_extension": ".py",
   "mimetype": "text/x-python",
   "name": "python",
   "nbconvert_exporter": "python",
   "pygments_lexer": "ipython3",
   "version": "3.6.7"
  },
  "toc": {
   "base_numbering": 1,
   "nav_menu": {},
   "number_sections": false,
   "sideBar": true,
   "skip_h1_title": false,
   "title_cell": "Table of Contents",
   "title_sidebar": "Contents",
   "toc_cell": false,
   "toc_position": {
    "height": "calc(100% - 180px)",
    "left": "10px",
    "top": "150px",
    "width": "194px"
   },
   "toc_section_display": "block",
   "toc_window_display": true
  },
  "toc-autonumbering": false,
  "varInspector": {
   "cols": {
    "lenName": 16,
    "lenType": 16,
    "lenVar": 40
   },
   "kernels_config": {
    "python": {
     "delete_cmd_postfix": "",
     "delete_cmd_prefix": "del ",
     "library": "var_list.py",
     "varRefreshCmd": "print(var_dic_list())"
    },
    "r": {
     "delete_cmd_postfix": ") ",
     "delete_cmd_prefix": "rm(",
     "library": "var_list.r",
     "varRefreshCmd": "cat(var_dic_list()) "
    }
   },
   "types_to_exclude": [
    "module",
    "function",
    "builtin_function_or_method",
    "instance",
    "_Feature"
   ],
   "window_display": false
  }
 },
 "nbformat": 4,
 "nbformat_minor": 4
}
