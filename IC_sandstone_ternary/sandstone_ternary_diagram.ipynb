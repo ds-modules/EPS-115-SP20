{
 "cells": [
  {
   "cell_type": "markdown",
   "metadata": {},
   "source": [
    "# Classification of sandstones using ternary diagrams"
   ]
  },
  {
   "cell_type": "markdown",
   "metadata": {},
   "source": [
    "There is a package for making ternary diagrams in Python which can be found here:\n",
    "    https://github.com/marcharper/python-ternary\n",
    "    \n",
    "I have put a copy of that package locally in this folder so that we can import it along with matplotlib.pyplot to make ternary diagrams."
   ]
  },
  {
   "cell_type": "code",
   "execution_count": null,
   "metadata": {},
   "outputs": [],
   "source": [
    "import ternary\n",
    "import matplotlib.pyplot as plt\n",
    "from matplotlib import gridspec"
   ]
  },
  {
   "cell_type": "markdown",
   "metadata": {},
   "source": [
    "## Enter and plot your data"
   ]
  },
  {
   "cell_type": "markdown",
   "metadata": {},
   "source": [
    "Your analysis of the sandstone thin sections should result in an estimate of percent lithic fragments, percent quartz grains and percent feldspar grains for each sample.\n",
    "\n",
    "The samples we are using are: 105-55; 105-320; 105-340; 105-347\n",
    "\n",
    "The total percentage should be 100%. Recall that an arenite is <15% matrix. If you think there is significant matrix, you should normalize your grain percentage estimates so that they add up to 100%.\n",
    "\n",
    "Enter the data for each sample below. Press shift+enter and you should see the points on the ternary plot."
   ]
  },
  {
   "cell_type": "code",
   "execution_count": null,
   "metadata": {
    "collapsed": false,
    "jupyter": {
     "outputs_hidden": false
    }
   },
   "outputs": [],
   "source": [
    "#Developing the plot takes a bit of code, because we want it to be just so with nice labels\n",
    "plt.figure(figsize=(16,16))\n",
    "gs = gridspec.GridSpec(2,2)\n",
    "ax = plt.subplot(gs[0,0])\n",
    "figure, ternary_axis = ternary.figure(ax=ax,scale=100)\n",
    "ternary_axis.boundary(linewidth=1.0)\n",
    "ternary_axis.gridlines(multiple=10, color=\"blue\")\n",
    "ternary_axis.right_axis_label(\"quartz\", fontsize=12)\n",
    "ternary_axis.left_axis_label(\"feldspar\", fontsize=12)\n",
    "ternary_axis.bottom_axis_label(\"lithics\", fontsize=12)\n",
    "ternary_axis.clear_matplotlib_ticks()\n",
    "ternary_axis.ticks(axis='lbr', multiple=20, linewidth=1)\n",
    "plt.axis('equal')\n",
    "\n",
    "#enter data in the order: lithic percent, quartz percent, feldspar percent\n",
    "\n",
    "sample_55_data = [(10,10,80)]\n",
    "ternary_axis.scatter(sample_55_data, marker='s', color='red', label=\"105-55\")\n",
    "\n",
    "sample_284_data = [(0,0,0)]\n",
    "ternary_axis.scatter(sample_284_data, marker='s', color='green', label=\"105-284\")\n",
    "\n",
    "sample_320_data = [(0,0,0)]\n",
    "ternary_axis.scatter(sample_320_data, marker='s', color='blue', label=\"105-320\")\n",
    "\n",
    "sample_347_data = [(0,0,0)]\n",
    "ternary_axis.scatter(sample_347_data, marker='s', color='goldenrod', label=\"105-340\")\n",
    "\n",
    "ternary_axis.legend()"
   ]
  },
  {
   "cell_type": "markdown",
   "metadata": {},
   "source": [
    "## Once everyone has data, I will enter it here and we can talk about classification"
   ]
  },
  {
   "cell_type": "code",
   "execution_count": null,
   "metadata": {
    "collapsed": false,
    "jupyter": {
     "outputs_hidden": false
    }
   },
   "outputs": [],
   "source": [
    "plt.figure(figsize=(16,16))\n",
    "gs = gridspec.GridSpec(2,2)\n",
    "ax = plt.subplot(gs[0,0])\n",
    "figure, ternary_axis = ternary.figure(ax=ax,scale=100)\n",
    "ternary_axis.boundary(linewidth=1.0)\n",
    "ternary_axis.right_axis_label(\"quartz\", fontsize=12)\n",
    "ternary_axis.left_axis_label(\"feldspar\", fontsize=12)\n",
    "ternary_axis.bottom_axis_label(\"lithics\", fontsize=12)\n",
    "ternary_axis.clear_matplotlib_ticks()\n",
    "ternary_axis.ticks(axis='lbr', multiple=20, linewidth=1)\n",
    "plt.axis('equal')\n",
    "\n",
    "sample_55_data = [(10,10,80),(10,0,90)]\n",
    "ternary_axis.scatter(sample_55_data, marker='s', color='red', label=\"105-55\")\n",
    "\n",
    "sample_284_data = [(0,0,0)]\n",
    "ternary_axis.scatter(sample_284_data, marker='s', color='green', label=\"105-284\")\n",
    "\n",
    "sample_320_data = [(0,0,0)]\n",
    "ternary_axis.scatter(sample_320_data, marker='s', color='blue', label=\"105-320\")\n",
    "\n",
    "sample_347_data = [(0,0,0)]\n",
    "ternary_axis.scatter(sample_347_data, marker='s', color='goldenrod', label=\"105-340\")\n",
    "\n",
    "ternary_axis.legend()\n",
    "\n",
    "p1 = (5,90,5)\n",
    "p2 = (50, 0, 0)\n",
    "ternary_axis.line(p1, p2, linewidth=1, color='grey', linestyle=\":\")\n",
    "p3 = (0,75,25)\n",
    "p4 = (25,75,0)\n",
    "ternary_axis.line(p3, p4, linewidth=1, color='grey', linestyle=\":\")\n",
    "p5 = (0,90,10)\n",
    "p6 = (10,90,0)\n",
    "ternary_axis.line(p5, p6, linewidth=1, color='grey', linestyle=\":\")"
   ]
  },
  {
   "cell_type": "code",
   "execution_count": null,
   "metadata": {},
   "outputs": [],
   "source": []
  }
 ],
 "metadata": {
  "kernelspec": {
   "display_name": "Python 3",
   "language": "python",
   "name": "python3"
  },
  "language_info": {
   "codemirror_mode": {
    "name": "ipython",
    "version": 3
   },
   "file_extension": ".py",
   "mimetype": "text/x-python",
   "name": "python",
   "nbconvert_exporter": "python",
   "pygments_lexer": "ipython3",
   "version": "3.7.3"
  }
 },
 "nbformat": 4,
 "nbformat_minor": 4
}
